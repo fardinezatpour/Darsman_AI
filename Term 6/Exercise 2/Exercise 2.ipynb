{
 "cells": [
  {
   "cell_type": "markdown",
   "metadata": {
    "id": "Pdf32601jYo4"
   },
   "source": [
    "<div dir=\"rtl\">\n",
    "    <font size=\"6\">\n",
    "        <h1>تمرین پیش‌بینی قیمت لپ‌تاپ با یادگیری ماشین</h1>\n",
    "    </font>\n",
    "</div>\n",
    "<br>\n",
    "\n",
    "<div dir=\"rtl\">\n",
    "    <font size=\"4\">\n",
    "        <h2><strong>مقدمه</strong></h2>\n",
    "        در این تمرین، شما با استفاده از مجموعه داده‌ای شامل مشخصات سخت‌افزاری و قیمت لپ‌تاپ‌ها، یک مدل یادگیری ماشین برای پیش‌بینی قیمت لپ‌تاپ توسعه خواهید داد. این تمرین به شما کمک می‌کند تا مهارت‌های خود را در تحلیل داده، پیش‌پردازش، مدل‌سازی و ارزیابی مدل‌های رگرسیونی تقویت کنید.\n",
    "    </font>\n",
    "</div>\n",
    "<br>\n",
    "<br>\n",
    "<div dir=\"rtl\">\n",
    "    <font size=\"4\">\n",
    "        <h2><strong>وظیفه شما در این تمرین</strong></h2>\n",
    "        شما باید یک مدل <strong>رگرسیون</strong> طراحی کنید که بتواند بر اساس ویژگی‌های سخت‌افزاری و سایر اطلاعات موجود در دیتاست، قیمت لپ‌تاپ‌ها را پیش‌بینی کند. مراحل کلی تمرین به شرح زیر است:\n",
    "            <li>✅ <strong>کاوش و تحلیل داده‌ها:</strong> بررسی ویژگی‌های مختلف، مقادیر پرت، توزیع داده‌ها، و همبستگی بین متغیرها.</li>\n",
    "            <li>✅ <strong>پیش‌پردازش داده‌ها:</strong> تبدیل متغیرهای متنی به عددی، بررسی داده‌های پرت، مدیریت داده‌های گمشده (در صورت وجود)، و نرمال‌سازی داده‌ها.</li>\n",
    "            <li>✅ پیاده سازی مدل های Random Forest و XGBoost</li>\n",
    "            <li>✅ <strong>ارزیابی مدل:</strong> استفاده از معیارهایی مانند <strong>RMSE، MAE، R2</strong> برای اندازه‌گیری دقت پیش‌بینی مدل.\n",
    "            </li>\n",
    "            <li>✅ ذخیره سازی مدل\n",
    "            </li>\n",
    "    </font>\n",
    "</div>\n",
    "<br>"
   ]
  },
  {
   "cell_type": "markdown",
   "metadata": {
    "id": "lhWL25VswBvP"
   },
   "source": [
    "<div dir=\"rtl\">\n",
    "<font size=\"4\">\n",
    "    <h2><strong>متغیر هدف (Target Variable)</strong></h2>\n",
    "    متغیر هدف در این تمرین <strong>\"Price ($)\"</strong> است که نشان می‌دهد مقدار قیمت مورد نظر برای پیش‌بینی چقدر است.\n",
    "    <li><strong>قیمت بالا:</strong> مقدار قیمت در سطح بالایی قرار دارد.</li>\n",
    "    <li><strong>قیمت پایین:</strong> مقدار قیمت در سطح پایینی قرار دارد.</li>\n",
    "</font>\n",
    "<h2><strong>نحوه ارسال تمرین</strong></h2>\n",
    "<font size=\"4\">\n",
    "    <li>📌 فایل تمرین خود را در یک <strong>مخزن (Repository) در اکانت GitHub</strong> خود آپلود کنید.</li>\n",
    "    <li>📌 لینک مخزن را کپی کرده و در <strong>پنل لنمیس</strong> ارسال کنید.</li>\n",
    "    🔴 <strong>اطمینان حاصل کنید که مخزن شما به‌صورت عمومی قابل‌دسترسی باشد تا تمرین شما بررسی شود.</strong>\n",
    "</font>\n",
    "\n",
    "</div>\n",
    "<br>\n",
    "<br>\n",
    "<br>"
   ]
  },
  {
   "cell_type": "markdown",
   "metadata": {
    "id": "v05s84sPMY2P"
   },
   "source": [
    "<div dir=\"rtl\">\n",
    "    <h2>راهنمای تمرین:<h2>\n",
    "    <p>\n",
    "        <font size=4>\n",
    "        این تمرین به گونه‌ای طراحی شده که شما باید کدهای خود را در قالب خاصی که از قبل مشخص شده، بنویسید. به این معنی که ممکن است بخشی از کد برای شما آماده باشد و شما باید فقط ادامه کد را بنویسید بدون اینکه آن قسمت از کد را تغییر دهید. این نوع تمرین برای کمک به شما طراحی شده تا در مراحل بعدی با چالش‌های پیچیده‌تری روبرو شوید که نیاز به مهارت‌های بیشتری دارند.\n",
    "        <br>\n",
    "        در این تمرین، در هر مرحله شما باید برداشت‌ها و تحلیل‌های خود را بنویسید. مثلاً اگر در کد شما نمودار یا جدولی از داده‌ها یا نتایج مدل‌ها به نمایش در می‌آید، شما باید توضیح دهید که آن‌ها چه معنی و کاربردی دارند. این تحلیل‌ها می‌تواند شامل بررسی تغییرات در داده‌ها، ارزیابی مدل‌ها، یا نتایج بهینه‌سازی‌ها باشد.\n",
    "        <br>\n",
    "        برای هر بخش، حداقل پنج نکته یا برداشت از نتایج یا داده‌ها باید بنویسید.\n",
    "        <br>\n",
    "            <li>\n",
    "            در قسمت ارزیابی , باید یافته ها و نکاتی که از تحلیل داده متوجه شده و دریافت کرده اید در قالب یک خلاصه گزارش , بنویسید.\n",
    "            </li>\n",
    "            <li>\n",
    "            برای هر نمودار یا جدول، تحلیل کنید که چه روندی را نشان می‌دهند یا آیا نکته خاصی برای بهبود مدل یا داده‌ها از آن‌ها قابل استخراج است.\n",
    "            </li>\n",
    "            <br>\n",
    "        مهم است که توجه داشته باشید شما باید فقط کدهای خود را اضافه کنید و قسمت‌هایی که از پیش نوشته شده‌اند، نباید تغییر کنند. هدف این است که شما بتوانید با استفاده از قالب و راهنمایی‌های داده شده، تمرین را به درستی تکمیل کنید.\n",
    "        </font>\n",
    "    </p>\n",
    "</div>\n",
    "<br>\n",
    "<br>\n",
    "<br>"
   ]
  },
  {
   "cell_type": "markdown",
   "metadata": {
    "id": "W8BnAT_3Nmyh"
   },
   "source": [
    "<div dir=\"rtl\">\n",
    "    <h2>توضیح متغیرهای دیتاست لپ‌تاپ</h2>\n",
    "    <table border=\"1\" cellpadding=\"8\" cellspacing=\"0\">\n",
    "        <tr>\n",
    "            <th>ستون</th>\n",
    "            <th>توضیح کوتاه</th>\n",
    "            <th>نوع داده</th>\n",
    "        </tr>\n",
    "        <tr>\n",
    "            <td><b>Brand</b></td>\n",
    "            <td>برند لپ‌تاپ (Dell, HP, Apple, …)</td>\n",
    "            <td>object</td>\n",
    "        </tr>\n",
    "        <tr>\n",
    "            <td><b>Processor</b></td>\n",
    "            <td>نوع پردازنده (Intel, AMD, …)</td>\n",
    "            <td>object</td>\n",
    "        </tr>\n",
    "        <tr>\n",
    "            <td><b>RAM (GB)</b></td>\n",
    "            <td>مقدار رم (به گیگابایت)</td>\n",
    "            <td>int64</td>\n",
    "        </tr>\n",
    "        <tr>\n",
    "            <td><b>Storage</b></td>\n",
    "            <td>نوع و ظرفیت حافظه (SSD, HDD, …)</td>\n",
    "            <td>object</td>\n",
    "        </tr>\n",
    "        <tr>\n",
    "            <td><b>GPU</b></td>\n",
    "            <td>مدل کارت گرافیک</td>\n",
    "            <td>object</td>\n",
    "        </tr>\n",
    "        <tr>\n",
    "            <td><b>Screen Size (inch)</b></td>\n",
    "            <td>اندازه صفحه‌نمایش (اینچ)</td>\n",
    "            <td>float64</td>\n",
    "        </tr>\n",
    "        <tr>\n",
    "            <td><b>Resolution</b></td>\n",
    "            <td>رزولوشن صفحه‌نمایش (Full HD, 4K, …)</td>\n",
    "            <td>object</td>\n",
    "        </tr>\n",
    "        <tr>\n",
    "            <td><b>Battery Life (hours)</b></td>\n",
    "            <td>عمر باتری (ساعت)</td>\n",
    "            <td>float64</td>\n",
    "        </tr>\n",
    "        <tr>\n",
    "            <td><b>Weight (kg)</b></td>\n",
    "            <td>وزن دستگاه (کیلوگرم)</td>\n",
    "            <td>float64</td>\n",
    "        </tr>\n",
    "        <tr>\n",
    "            <td><b>Operating System</b></td>\n",
    "            <td>سیستم‌عامل (Windows, macOS, Linux, …)</td>\n",
    "            <td>object</td>\n",
    "        </tr>\n",
    "        <tr>\n",
    "            <td><b>Price ($)</b></td>\n",
    "            <td>قیمت لپ‌تاپ (دلار)</td>\n",
    "            <td>float64</td>\n",
    "        </tr>\n",
    "    </table>\n",
    "</div>\n",
    "<br><br>"
   ]
  },
  {
   "cell_type": "markdown",
   "metadata": {
    "id": "S0qGbJqczmHA"
   },
   "source": [
    "<br>\n",
    "<br>\n",
    "<div dir=\"rtl\">\n",
    "<font size=\"6\">\n",
    "    <li>\n",
    "    <strong>ارزیابی و شناخت دیتاست</strong>\n",
    "    </li>\n",
    "</font>\n",
    "<font size=4>\n",
    "    در این قدم، شما باید دیتاست را بررسی کرده و ساختار آن را درک کنید. بررسی کنید که چه متغیرهایی در دیتاست وجود دارند، نوع داده‌ها چیست و آیا داده‌ها گمشده یا نادرست هستند یا خیر. این مرحله به شما کمک می‌کند که به‌طور کامل با داده‌ها آشنا شوید و مشکلات احتمالی را شناسایی کنید.\n",
    "</font>"
   ]
  },
  {
   "cell_type": "code",
   "execution_count": 1,
   "metadata": {
    "id": "22UVRWRH2Nbd"
   },
   "outputs": [],
   "source": [
    "# TODO: کتابخانه ها را ایمپورت کنید\n",
    "import pandas as pd \n",
    "import matplotlib.pyplot as plt\n",
    "import seaborn as sns\n",
    "import numpy as np\n",
    "from sklearn.preprocessing import LabelEncoder  \n",
    "from warnings import filterwarnings\n",
    "filterwarnings('ignore')"
   ]
  },
  {
   "cell_type": "code",
   "execution_count": 2,
   "metadata": {
    "id": "rcHzjRE3Hfvj"
   },
   "outputs": [
    {
     "data": {
      "text/html": [
       "<div>\n",
       "<style scoped>\n",
       "    .dataframe tbody tr th:only-of-type {\n",
       "        vertical-align: middle;\n",
       "    }\n",
       "\n",
       "    .dataframe tbody tr th {\n",
       "        vertical-align: top;\n",
       "    }\n",
       "\n",
       "    .dataframe thead th {\n",
       "        text-align: right;\n",
       "    }\n",
       "</style>\n",
       "<table border=\"1\" class=\"dataframe\">\n",
       "  <thead>\n",
       "    <tr style=\"text-align: right;\">\n",
       "      <th></th>\n",
       "      <th>Brand</th>\n",
       "      <th>Processor</th>\n",
       "      <th>RAM (GB)</th>\n",
       "      <th>Storage</th>\n",
       "      <th>GPU</th>\n",
       "      <th>Screen Size (inch)</th>\n",
       "      <th>Resolution</th>\n",
       "      <th>Battery Life (hours)</th>\n",
       "      <th>Weight (kg)</th>\n",
       "      <th>Operating System</th>\n",
       "      <th>Price ($)</th>\n",
       "    </tr>\n",
       "  </thead>\n",
       "  <tbody>\n",
       "    <tr>\n",
       "      <th>0</th>\n",
       "      <td>Apple</td>\n",
       "      <td>AMD Ryzen 3</td>\n",
       "      <td>64</td>\n",
       "      <td>512GB SSD</td>\n",
       "      <td>Nvidia GTX 1650</td>\n",
       "      <td>17.3</td>\n",
       "      <td>2560x1440</td>\n",
       "      <td>8.9</td>\n",
       "      <td>1.42</td>\n",
       "      <td>FreeDOS</td>\n",
       "      <td>3997.07</td>\n",
       "    </tr>\n",
       "    <tr>\n",
       "      <th>1</th>\n",
       "      <td>Razer</td>\n",
       "      <td>AMD Ryzen 7</td>\n",
       "      <td>4</td>\n",
       "      <td>1TB SSD</td>\n",
       "      <td>Nvidia RTX 3080</td>\n",
       "      <td>14.0</td>\n",
       "      <td>1366x768</td>\n",
       "      <td>9.4</td>\n",
       "      <td>2.57</td>\n",
       "      <td>Linux</td>\n",
       "      <td>1355.78</td>\n",
       "    </tr>\n",
       "    <tr>\n",
       "      <th>2</th>\n",
       "      <td>Asus</td>\n",
       "      <td>Intel i5</td>\n",
       "      <td>32</td>\n",
       "      <td>2TB SSD</td>\n",
       "      <td>Nvidia RTX 3060</td>\n",
       "      <td>13.3</td>\n",
       "      <td>3840x2160</td>\n",
       "      <td>8.5</td>\n",
       "      <td>1.74</td>\n",
       "      <td>FreeDOS</td>\n",
       "      <td>2673.07</td>\n",
       "    </tr>\n",
       "    <tr>\n",
       "      <th>3</th>\n",
       "      <td>Lenovo</td>\n",
       "      <td>Intel i5</td>\n",
       "      <td>4</td>\n",
       "      <td>256GB SSD</td>\n",
       "      <td>Nvidia RTX 3080</td>\n",
       "      <td>13.3</td>\n",
       "      <td>1366x768</td>\n",
       "      <td>10.5</td>\n",
       "      <td>3.10</td>\n",
       "      <td>Windows</td>\n",
       "      <td>751.17</td>\n",
       "    </tr>\n",
       "    <tr>\n",
       "      <th>4</th>\n",
       "      <td>Razer</td>\n",
       "      <td>Intel i3</td>\n",
       "      <td>4</td>\n",
       "      <td>256GB SSD</td>\n",
       "      <td>AMD Radeon RX 6600</td>\n",
       "      <td>16.0</td>\n",
       "      <td>3840x2160</td>\n",
       "      <td>5.7</td>\n",
       "      <td>3.38</td>\n",
       "      <td>Linux</td>\n",
       "      <td>2059.83</td>\n",
       "    </tr>\n",
       "    <tr>\n",
       "      <th>...</th>\n",
       "      <td>...</td>\n",
       "      <td>...</td>\n",
       "      <td>...</td>\n",
       "      <td>...</td>\n",
       "      <td>...</td>\n",
       "      <td>...</td>\n",
       "      <td>...</td>\n",
       "      <td>...</td>\n",
       "      <td>...</td>\n",
       "      <td>...</td>\n",
       "      <td>...</td>\n",
       "    </tr>\n",
       "    <tr>\n",
       "      <th>11763</th>\n",
       "      <td>Acer</td>\n",
       "      <td>Intel i3</td>\n",
       "      <td>4</td>\n",
       "      <td>2TB SSD</td>\n",
       "      <td>Nvidia RTX 2060</td>\n",
       "      <td>17.3</td>\n",
       "      <td>1366x768</td>\n",
       "      <td>11.5</td>\n",
       "      <td>1.58</td>\n",
       "      <td>macOS</td>\n",
       "      <td>704.82</td>\n",
       "    </tr>\n",
       "    <tr>\n",
       "      <th>11764</th>\n",
       "      <td>Asus</td>\n",
       "      <td>Intel i3</td>\n",
       "      <td>4</td>\n",
       "      <td>2TB SSD</td>\n",
       "      <td>AMD Radeon RX 6800</td>\n",
       "      <td>16.0</td>\n",
       "      <td>1366x768</td>\n",
       "      <td>9.5</td>\n",
       "      <td>2.14</td>\n",
       "      <td>Linux</td>\n",
       "      <td>775.59</td>\n",
       "    </tr>\n",
       "    <tr>\n",
       "      <th>11765</th>\n",
       "      <td>Razer</td>\n",
       "      <td>AMD Ryzen 9</td>\n",
       "      <td>4</td>\n",
       "      <td>2TB SSD</td>\n",
       "      <td>AMD Radeon RX 6600</td>\n",
       "      <td>15.6</td>\n",
       "      <td>2560x1440</td>\n",
       "      <td>8.2</td>\n",
       "      <td>2.05</td>\n",
       "      <td>Linux</td>\n",
       "      <td>2789.46</td>\n",
       "    </tr>\n",
       "    <tr>\n",
       "      <th>11766</th>\n",
       "      <td>Samsung</td>\n",
       "      <td>AMD Ryzen 7</td>\n",
       "      <td>16</td>\n",
       "      <td>512GB SSD</td>\n",
       "      <td>Integrated</td>\n",
       "      <td>13.3</td>\n",
       "      <td>1920x1080</td>\n",
       "      <td>7.5</td>\n",
       "      <td>1.48</td>\n",
       "      <td>macOS</td>\n",
       "      <td>1067.13</td>\n",
       "    </tr>\n",
       "    <tr>\n",
       "      <th>11767</th>\n",
       "      <td>Samsung</td>\n",
       "      <td>Intel i7</td>\n",
       "      <td>8</td>\n",
       "      <td>256GB SSD</td>\n",
       "      <td>Nvidia RTX 3080</td>\n",
       "      <td>17.3</td>\n",
       "      <td>2560x1440</td>\n",
       "      <td>6.4</td>\n",
       "      <td>2.45</td>\n",
       "      <td>FreeDOS</td>\n",
       "      <td>1579.55</td>\n",
       "    </tr>\n",
       "  </tbody>\n",
       "</table>\n",
       "<p>11768 rows × 11 columns</p>\n",
       "</div>"
      ],
      "text/plain": [
       "         Brand    Processor  RAM (GB)    Storage                 GPU  \\\n",
       "0        Apple  AMD Ryzen 3        64  512GB SSD     Nvidia GTX 1650   \n",
       "1        Razer  AMD Ryzen 7         4    1TB SSD     Nvidia RTX 3080   \n",
       "2         Asus     Intel i5        32    2TB SSD     Nvidia RTX 3060   \n",
       "3       Lenovo     Intel i5         4  256GB SSD     Nvidia RTX 3080   \n",
       "4        Razer     Intel i3         4  256GB SSD  AMD Radeon RX 6600   \n",
       "...        ...          ...       ...        ...                 ...   \n",
       "11763     Acer     Intel i3         4    2TB SSD     Nvidia RTX 2060   \n",
       "11764     Asus     Intel i3         4    2TB SSD  AMD Radeon RX 6800   \n",
       "11765    Razer  AMD Ryzen 9         4    2TB SSD  AMD Radeon RX 6600   \n",
       "11766  Samsung  AMD Ryzen 7        16  512GB SSD          Integrated   \n",
       "11767  Samsung     Intel i7         8  256GB SSD     Nvidia RTX 3080   \n",
       "\n",
       "       Screen Size (inch) Resolution  Battery Life (hours)  Weight (kg)  \\\n",
       "0                    17.3  2560x1440                   8.9         1.42   \n",
       "1                    14.0   1366x768                   9.4         2.57   \n",
       "2                    13.3  3840x2160                   8.5         1.74   \n",
       "3                    13.3   1366x768                  10.5         3.10   \n",
       "4                    16.0  3840x2160                   5.7         3.38   \n",
       "...                   ...        ...                   ...          ...   \n",
       "11763                17.3   1366x768                  11.5         1.58   \n",
       "11764                16.0   1366x768                   9.5         2.14   \n",
       "11765                15.6  2560x1440                   8.2         2.05   \n",
       "11766                13.3  1920x1080                   7.5         1.48   \n",
       "11767                17.3  2560x1440                   6.4         2.45   \n",
       "\n",
       "      Operating System  Price ($)  \n",
       "0              FreeDOS    3997.07  \n",
       "1                Linux    1355.78  \n",
       "2              FreeDOS    2673.07  \n",
       "3              Windows     751.17  \n",
       "4                Linux    2059.83  \n",
       "...                ...        ...  \n",
       "11763            macOS     704.82  \n",
       "11764            Linux     775.59  \n",
       "11765            Linux    2789.46  \n",
       "11766            macOS    1067.13  \n",
       "11767          FreeDOS    1579.55  \n",
       "\n",
       "[11768 rows x 11 columns]"
      ]
     },
     "metadata": {},
     "output_type": "display_data"
    }
   ],
   "source": [
    "# TODO: دیتافریم را لود کنید\n",
    "data = pd.read_csv(r'dataset.csv')\n",
    "df = pd.DataFrame(data)\n",
    "display(df)"
   ]
  },
  {
   "cell_type": "code",
   "execution_count": 3,
   "metadata": {
    "id": "JP6esntgqrEU"
   },
   "outputs": [
    {
     "data": {
      "text/html": [
       "<div>\n",
       "<style scoped>\n",
       "    .dataframe tbody tr th:only-of-type {\n",
       "        vertical-align: middle;\n",
       "    }\n",
       "\n",
       "    .dataframe tbody tr th {\n",
       "        vertical-align: top;\n",
       "    }\n",
       "\n",
       "    .dataframe thead th {\n",
       "        text-align: right;\n",
       "    }\n",
       "</style>\n",
       "<table border=\"1\" class=\"dataframe\">\n",
       "  <thead>\n",
       "    <tr style=\"text-align: right;\">\n",
       "      <th></th>\n",
       "      <th>Brand</th>\n",
       "      <th>Processor</th>\n",
       "      <th>RAM (GB)</th>\n",
       "      <th>Storage</th>\n",
       "      <th>GPU</th>\n",
       "      <th>Screen Size (inch)</th>\n",
       "      <th>Resolution</th>\n",
       "      <th>Battery Life (hours)</th>\n",
       "      <th>Weight (kg)</th>\n",
       "      <th>Operating System</th>\n",
       "      <th>Price ($)</th>\n",
       "    </tr>\n",
       "  </thead>\n",
       "  <tbody>\n",
       "    <tr>\n",
       "      <th>0</th>\n",
       "      <td>Apple</td>\n",
       "      <td>AMD Ryzen 3</td>\n",
       "      <td>64</td>\n",
       "      <td>512GB SSD</td>\n",
       "      <td>Nvidia GTX 1650</td>\n",
       "      <td>17.3</td>\n",
       "      <td>2560x1440</td>\n",
       "      <td>8.9</td>\n",
       "      <td>1.42</td>\n",
       "      <td>FreeDOS</td>\n",
       "      <td>3997.07</td>\n",
       "    </tr>\n",
       "    <tr>\n",
       "      <th>1</th>\n",
       "      <td>Razer</td>\n",
       "      <td>AMD Ryzen 7</td>\n",
       "      <td>4</td>\n",
       "      <td>1TB SSD</td>\n",
       "      <td>Nvidia RTX 3080</td>\n",
       "      <td>14.0</td>\n",
       "      <td>1366x768</td>\n",
       "      <td>9.4</td>\n",
       "      <td>2.57</td>\n",
       "      <td>Linux</td>\n",
       "      <td>1355.78</td>\n",
       "    </tr>\n",
       "    <tr>\n",
       "      <th>2</th>\n",
       "      <td>Asus</td>\n",
       "      <td>Intel i5</td>\n",
       "      <td>32</td>\n",
       "      <td>2TB SSD</td>\n",
       "      <td>Nvidia RTX 3060</td>\n",
       "      <td>13.3</td>\n",
       "      <td>3840x2160</td>\n",
       "      <td>8.5</td>\n",
       "      <td>1.74</td>\n",
       "      <td>FreeDOS</td>\n",
       "      <td>2673.07</td>\n",
       "    </tr>\n",
       "  </tbody>\n",
       "</table>\n",
       "</div>"
      ],
      "text/plain": [
       "   Brand    Processor  RAM (GB)    Storage              GPU  \\\n",
       "0  Apple  AMD Ryzen 3        64  512GB SSD  Nvidia GTX 1650   \n",
       "1  Razer  AMD Ryzen 7         4    1TB SSD  Nvidia RTX 3080   \n",
       "2   Asus     Intel i5        32    2TB SSD  Nvidia RTX 3060   \n",
       "\n",
       "   Screen Size (inch) Resolution  Battery Life (hours)  Weight (kg)  \\\n",
       "0                17.3  2560x1440                   8.9         1.42   \n",
       "1                14.0   1366x768                   9.4         2.57   \n",
       "2                13.3  3840x2160                   8.5         1.74   \n",
       "\n",
       "  Operating System  Price ($)  \n",
       "0          FreeDOS    3997.07  \n",
       "1            Linux    1355.78  \n",
       "2          FreeDOS    2673.07  "
      ]
     },
     "execution_count": 3,
     "metadata": {},
     "output_type": "execute_result"
    }
   ],
   "source": [
    "# TODO : بررسی چند ردیف اول دیتافریم\n",
    "df.head(3)"
   ]
  },
  {
   "cell_type": "code",
   "execution_count": 4,
   "metadata": {
    "id": "8jpIR2CkWMIw"
   },
   "outputs": [
    {
     "data": {
      "text/plain": [
       "(11768, 11)"
      ]
     },
     "execution_count": 4,
     "metadata": {},
     "output_type": "execute_result"
    }
   ],
   "source": [
    "# TODO: بررسی ابعاد دیتافریم\n",
    "df.shape"
   ]
  },
  {
   "cell_type": "code",
   "execution_count": 5,
   "metadata": {
    "id": "in1LP0wG5lUN"
   },
   "outputs": [
    {
     "name": "stdout",
     "output_type": "stream",
     "text": [
      "<class 'pandas.core.frame.DataFrame'>\n",
      "RangeIndex: 11768 entries, 0 to 11767\n",
      "Data columns (total 11 columns):\n",
      " #   Column                Non-Null Count  Dtype  \n",
      "---  ------                --------------  -----  \n",
      " 0   Brand                 11768 non-null  object \n",
      " 1   Processor             11768 non-null  object \n",
      " 2   RAM (GB)              11768 non-null  int64  \n",
      " 3   Storage               11768 non-null  object \n",
      " 4   GPU                   11768 non-null  object \n",
      " 5   Screen Size (inch)    11768 non-null  float64\n",
      " 6   Resolution            11768 non-null  object \n",
      " 7   Battery Life (hours)  11768 non-null  float64\n",
      " 8   Weight (kg)           11768 non-null  float64\n",
      " 9   Operating System      11768 non-null  object \n",
      " 10  Price ($)             11768 non-null  float64\n",
      "dtypes: float64(4), int64(1), object(6)\n",
      "memory usage: 1011.4+ KB\n"
     ]
    }
   ],
   "source": [
    "# TODO: بررسی اطلاعات کلی دیتافریم\n",
    "df.info()"
   ]
  },
  {
   "cell_type": "markdown",
   "metadata": {
    "id": "3AvnbnBf2ImN"
   },
   "source": [
    "<div dir=\"rtl\" style=\"text-align: center;\">\n",
    "    <p>\n",
    "        <font size=4>\n",
    "            <li>\n",
    "                داده های تکراری (Duplicates) و داده های گم شده (Missing Values) را بررسی و ارزیابی کنید.\n",
    "                <strong>سپس مقادیر تکراری را حذف کنید.</strong>\n",
    "            </li>\n",
    "        </font>\n",
    "    </p>\n",
    "</div>"
   ]
  },
  {
   "cell_type": "code",
   "execution_count": 6,
   "metadata": {
    "id": "bbOoKKT57cfI"
   },
   "outputs": [
    {
     "name": "stdout",
     "output_type": "stream",
     "text": [
      "Series([], dtype: int64)\n"
     ]
    }
   ],
   "source": [
    "# TODO: بررسی مقادیر گم شده\n",
    "missing_values = df.isnull().sum()  \n",
    "print(missing_values[missing_values > 0])"
   ]
  },
  {
   "cell_type": "code",
   "execution_count": 7,
   "metadata": {
    "id": "PL5PDc8n-z6q"
   },
   "outputs": [
    {
     "name": "stdout",
     "output_type": "stream",
     "text": [
      "Count Duplicates Rows : 0\n"
     ]
    }
   ],
   "source": [
    "# TODO: بررسی داده های تکراری\n",
    "print(f\"Count Duplicates Rows : {df.duplicated().sum()}\")"
   ]
  },
  {
   "cell_type": "markdown",
   "metadata": {
    "id": "eQNB8eNK23Rm"
   },
   "source": [
    "<div dir=\"rtl\" style=\"text-align: center;\">\n",
    "    <p>\n",
    "        <font size=4>\n",
    "            <li>\n",
    "                تعداد مقادیر یکتا (Unique) در هر ویژگی را بررسی کنید.\n",
    "            </li>\n",
    "        </font>\n",
    "    </p>\n",
    "</div>"
   ]
  },
  {
   "cell_type": "code",
   "execution_count": 8,
   "metadata": {
    "id": "bXlcoNUvC0Gy"
   },
   "outputs": [
    {
     "data": {
      "text/plain": [
       "Brand                      10\n",
       "Processor                   8\n",
       "RAM (GB)                    5\n",
       "Storage                     5\n",
       "GPU                         7\n",
       "Screen Size (inch)          5\n",
       "Resolution                  4\n",
       "Battery Life (hours)       81\n",
       "Weight (kg)               231\n",
       "Operating System            4\n",
       "Price ($)               11558\n",
       "dtype: int64"
      ]
     },
     "execution_count": 8,
     "metadata": {},
     "output_type": "execute_result"
    }
   ],
   "source": [
    "# TODO: بررسی تعداد داده های منحصر بفرد و یکتا در هر ویژگی\n",
    "df.nunique()"
   ]
  },
  {
   "cell_type": "markdown",
   "metadata": {
    "id": "PTaLd0GW3A_p"
   },
   "source": [
    "<div dir=\"rtl\">\n",
    "    <p>\n",
    "        <font size=4>\n",
    "            <li>\n",
    "                جدول Describe را برای این دیتافریم بررسی کنیدو ارزیابی اولیه خودتان را در مورد این دیتافریم بنویسید.\n",
    "                در ادامه که نمونه از ارزیابی اولیه برای شما نوشته شده است که لازم است با آن توجه داشته باشید\n",
    "            </li>\n",
    "        </font>\n",
    "    </p>\n",
    "</div>"
   ]
  },
  {
   "cell_type": "code",
   "execution_count": 9,
   "metadata": {
    "id": "z2NrOlX7FbeA"
   },
   "outputs": [
    {
     "data": {
      "text/html": [
       "<div>\n",
       "<style scoped>\n",
       "    .dataframe tbody tr th:only-of-type {\n",
       "        vertical-align: middle;\n",
       "    }\n",
       "\n",
       "    .dataframe tbody tr th {\n",
       "        vertical-align: top;\n",
       "    }\n",
       "\n",
       "    .dataframe thead th {\n",
       "        text-align: right;\n",
       "    }\n",
       "</style>\n",
       "<table border=\"1\" class=\"dataframe\">\n",
       "  <thead>\n",
       "    <tr style=\"text-align: right;\">\n",
       "      <th></th>\n",
       "      <th>RAM (GB)</th>\n",
       "      <th>Screen Size (inch)</th>\n",
       "      <th>Battery Life (hours)</th>\n",
       "      <th>Weight (kg)</th>\n",
       "      <th>Price ($)</th>\n",
       "    </tr>\n",
       "  </thead>\n",
       "  <tbody>\n",
       "    <tr>\n",
       "      <th>count</th>\n",
       "      <td>11768.000000</td>\n",
       "      <td>11768.000000</td>\n",
       "      <td>11768.000000</td>\n",
       "      <td>11768.000000</td>\n",
       "      <td>11768.000000</td>\n",
       "    </tr>\n",
       "    <tr>\n",
       "      <th>mean</th>\n",
       "      <td>24.852821</td>\n",
       "      <td>15.212305</td>\n",
       "      <td>8.027855</td>\n",
       "      <td>2.341117</td>\n",
       "      <td>2183.571608</td>\n",
       "    </tr>\n",
       "    <tr>\n",
       "      <th>std</th>\n",
       "      <td>21.762567</td>\n",
       "      <td>1.436997</td>\n",
       "      <td>2.305400</td>\n",
       "      <td>0.667921</td>\n",
       "      <td>1316.886132</td>\n",
       "    </tr>\n",
       "    <tr>\n",
       "      <th>min</th>\n",
       "      <td>4.000000</td>\n",
       "      <td>13.300000</td>\n",
       "      <td>4.000000</td>\n",
       "      <td>1.200000</td>\n",
       "      <td>279.570000</td>\n",
       "    </tr>\n",
       "    <tr>\n",
       "      <th>25%</th>\n",
       "      <td>8.000000</td>\n",
       "      <td>14.000000</td>\n",
       "      <td>6.000000</td>\n",
       "      <td>1.760000</td>\n",
       "      <td>1272.045000</td>\n",
       "    </tr>\n",
       "    <tr>\n",
       "      <th>50%</th>\n",
       "      <td>16.000000</td>\n",
       "      <td>15.600000</td>\n",
       "      <td>8.000000</td>\n",
       "      <td>2.340000</td>\n",
       "      <td>1840.865000</td>\n",
       "    </tr>\n",
       "    <tr>\n",
       "      <th>75%</th>\n",
       "      <td>32.000000</td>\n",
       "      <td>16.000000</td>\n",
       "      <td>10.000000</td>\n",
       "      <td>2.910000</td>\n",
       "      <td>2698.370000</td>\n",
       "    </tr>\n",
       "    <tr>\n",
       "      <th>max</th>\n",
       "      <td>64.000000</td>\n",
       "      <td>17.300000</td>\n",
       "      <td>12.000000</td>\n",
       "      <td>3.500000</td>\n",
       "      <td>10807.880000</td>\n",
       "    </tr>\n",
       "  </tbody>\n",
       "</table>\n",
       "</div>"
      ],
      "text/plain": [
       "           RAM (GB)  Screen Size (inch)  Battery Life (hours)   Weight (kg)  \\\n",
       "count  11768.000000        11768.000000          11768.000000  11768.000000   \n",
       "mean      24.852821           15.212305              8.027855      2.341117   \n",
       "std       21.762567            1.436997              2.305400      0.667921   \n",
       "min        4.000000           13.300000              4.000000      1.200000   \n",
       "25%        8.000000           14.000000              6.000000      1.760000   \n",
       "50%       16.000000           15.600000              8.000000      2.340000   \n",
       "75%       32.000000           16.000000             10.000000      2.910000   \n",
       "max       64.000000           17.300000             12.000000      3.500000   \n",
       "\n",
       "          Price ($)  \n",
       "count  11768.000000  \n",
       "mean    2183.571608  \n",
       "std     1316.886132  \n",
       "min      279.570000  \n",
       "25%     1272.045000  \n",
       "50%     1840.865000  \n",
       "75%     2698.370000  \n",
       "max    10807.880000  "
      ]
     },
     "execution_count": 9,
     "metadata": {},
     "output_type": "execute_result"
    }
   ],
   "source": [
    "# TODO: بررسی اطلاعات آمار و احتمالاتی دیتاست\n",
    "df.describe()"
   ]
  },
  {
   "cell_type": "markdown",
   "metadata": {
    "id": "MH92_aMny8B0"
   },
   "source": [
    "## ارزیابی:\n",
    "*ارزیابی خودتان از کد و خروجی حاصل از آن را بنویسید*\n",
    "1. تعداد رکورد های درون دیتاست 11 هزار و 768 رکور می باشد\n",
    "2. میانگین قیمت اجناس 2183 دلار می باشد\n",
    "3. کمترین قیمت اجناس 279 دلار و بیشترین آن 10807 دلار می باشد\n"
   ]
  },
  {
   "cell_type": "code",
   "execution_count": null,
   "metadata": {
    "id": "1qhFY8L9XV1O"
   },
   "outputs": [],
   "source": []
  },
  {
   "cell_type": "markdown",
   "metadata": {
    "id": "3ned43_OiLYd"
   },
   "source": [
    "<div dir=\"rtl\">\n",
    "<font size=\"6\">\n",
    "    <li>\n",
    "    <strong>مصورسازی</strong>\n",
    "    </li>\n",
    "</font>\n",
    "<div dir=\"rtl\">\n",
    "    <font size=\"4\">\n",
    "        در این مرحله، با استفاده از نمودارهای مناسب مانند پراکندگی (Scatter plot)، هیستوگرام و جعبه‌ای (Box plot)، روابط بین ویژگی‌ها و متغیر هدف را بررسی کنید.  \n",
    "        این تحلیل به درک بهتر الگوهای داده و شناسایی روابط پنهان کمک می‌کند.  \n",
    "        <br><font>پیاده‌سازی پلات‌های مشخص‌شده ضروری است. همچنین، برای هر پلات، یک خط تحلیل ارائه دهید و در بخش ارزیابی بنویسید.</font>\n",
    "    </font>\n",
    "</div>\n",
    "<br>\n"
   ]
  },
  {
   "cell_type": "code",
   "execution_count": 10,
   "metadata": {},
   "outputs": [],
   "source": [
    "def show_chart_barplot(data, x_, title, xlabel, ylabel, y_col=None, style='whitegrid', color='viridis', width_=0.5, money_format=False, Price_column=\"\", mean_price_column=False):  \n",
    "    plt.figure(figsize=(15,5))  \n",
    "    sns.set_style(style)  \n",
    "\n",
    "    if mean_price_column and Price_column:  \n",
    "        ax = sns.barplot(data=data, x=x_, y=Price_column, width=width_, palette=color, legend=False)  \n",
    "    else:  \n",
    "        ax = sns.barplot(data=data, x=x_, y=y_col, width=width_, palette=color, legend=False)  \n",
    "\n",
    "    for p in ax.patches:  \n",
    "        format_ = p.get_height()  \n",
    "        if money_format:  \n",
    "            format_ = f\" $ {format_:,.0f}\"  \n",
    "            ax.annotate(format(format_),  \n",
    "                        (p.get_x() + p.get_width() / 2., p.get_height()),  \n",
    "                        ha='center', va='center',  \n",
    "                        xytext=(0, 9),  \n",
    "                        textcoords='offset points')  \n",
    "        else:  \n",
    "            ax.annotate(format(format_),  \n",
    "                        (p.get_x() + p.get_width() / 2., p.get_height()),  \n",
    "                        ha='center', va='center',  \n",
    "                        xytext=(0, 9),  \n",
    "                        textcoords='offset points')  \n",
    "    \n",
    "    plt.title(title, fontsize=14)  \n",
    "    plt.xlabel(xlabel, fontsize=12)  \n",
    "    plt.ylabel(ylabel, fontsize=12)  \n",
    "    plt.xticks(rotation=45, ha='right')  \n",
    "    plt.show() "
   ]
  },
  {
   "cell_type": "code",
   "execution_count": 11,
   "metadata": {},
   "outputs": [],
   "source": [
    "new_data = df"
   ]
  },
  {
   "cell_type": "code",
   "execution_count": 12,
   "metadata": {},
   "outputs": [],
   "source": [
    "label_maping = {\n",
    "    'Brand': {},\n",
    "    'Operating System' : {},\n",
    "    'Processor' : {},\n",
    "    'GPU' : {}\n",
    "}"
   ]
  },
  {
   "cell_type": "code",
   "execution_count": null,
   "metadata": {},
   "outputs": [
    {
     "name": "stdout",
     "output_type": "stream",
     "text": [
      "       Brand  Processor  RAM (GB)  Storage  GPU  Screen Size (inch)  \\\n",
      "0          1          0      64.0      512    3                17.3   \n",
      "1          8          2       4.0     1000    6                14.0   \n",
      "2          2          5      32.0     2000    5                13.3   \n",
      "3          5          5       4.0      256    6                13.3   \n",
      "4          8          4       4.0      256    0                16.0   \n",
      "...      ...        ...       ...      ...  ...                 ...   \n",
      "11763      0          4       4.0     2000    4                17.3   \n",
      "11764      2          4       4.0     2000    1                16.0   \n",
      "11765      8          3       4.0     2000    0                15.6   \n",
      "11766      9          2      16.0      512    2                13.3   \n",
      "11767      9          6       8.0      256    6                17.3   \n",
      "\n",
      "       Resolution  Battery Life (hours)  Weight (kg)  Operating System  \\\n",
      "0         3686400                   8.9         1.42                 0   \n",
      "1         1065948                   9.4         2.57                 1   \n",
      "2         8294400                   8.5         1.74                 0   \n",
      "3         1065948                  10.5         3.10                 2   \n",
      "4         8294400                   5.7         3.38                 1   \n",
      "...           ...                   ...          ...               ...   \n",
      "11763     1065948                  11.5         1.58                 3   \n",
      "11764     1065948                   9.5         2.14                 1   \n",
      "11765     3686400                   8.2         2.05                 1   \n",
      "11766    15360800                   7.5         1.48                 3   \n",
      "11767     3686400                   6.4         2.45                 0   \n",
      "\n",
      "       Price ($)  \n",
      "0        3997.07  \n",
      "1        1355.78  \n",
      "2        2673.07  \n",
      "3         751.17  \n",
      "4        2059.83  \n",
      "...          ...  \n",
      "11763     704.82  \n",
      "11764     775.59  \n",
      "11765    2789.46  \n",
      "11766    1067.13  \n",
      "11767    1579.55  \n",
      "\n",
      "[11768 rows x 11 columns]\n"
     ]
    }
   ],
   "source": [
    "label_encoder = LabelEncoder()  \n",
    "#----------------------------------------------------------------------------------------------------\n",
    "new_data['Brand'] = label_encoder.fit_transform(new_data['Brand'])  \n",
    "label_maping[\"Brand\"]['real'] = label_encoder.classes_\n",
    "label_maping[\"Brand\"]['encoded'] = label_encoder.transform(label_encoder.classes_)\n",
    "#----------------------------------------------------------------------------------------------------\n",
    "new_data['Operating System'] = label_encoder.fit_transform(new_data['Operating System'])  \n",
    "label_maping[\"Operating System\"]['real'] = label_encoder.classes_\n",
    "label_maping[\"Operating System\"]['encoded'] = label_encoder.transform(label_encoder.classes_)\n",
    "#----------------------------------------------------------------------------------------------------\n",
    "# تابع تبدیل حافظه  \n",
    "def convert_storage(storage):  \n",
    "    if isinstance(storage, str):  \n",
    "        if 'TB' in storage:  \n",
    "            return int(storage.split(' ')[0].replace('TB', '')) * 1000  # تبدیل TB به GB  \n",
    "        elif 'GB' in storage:  \n",
    "            return int(storage.split(' ')[0].replace('GB', ''))  \n",
    "    return storage if isinstance(storage, (int, float)) else 0  # برگرداندن مقدار عددی اگر موجود باشد  \n",
    "#----------------------------------------------------------------------------------------------------\n",
    "new_data['Storage'] = new_data['Storage'].apply(convert_storage)  \n",
    "new_data['RAM (GB)'] = new_data['RAM (GB)'].astype(float)  # اطمینان از نوع عددی  \n",
    "#----------------------------------------------------------------------------------------------------\n",
    "def parse_resolution(resolution_str):\n",
    "    index_x = resolution_str.index('x')\n",
    "    A = \"\"\n",
    "    B = \"\"\n",
    "    for item in resolution_str:\n",
    "        if resolution_str.index(item) < index_x :\n",
    "            A += item\n",
    "        elif resolution_str.index(item) > index_x :\n",
    "            B += item\n",
    "    return int(A)*int(B)\n",
    "new_data['Resolution'] = new_data['Resolution'].apply(parse_resolution)\n",
    "#----------------------------------------------------------------------------------------------------\n",
    "# تبدیل Processor به مقدار عددی  \n",
    "new_data['Processor'] = label_encoder.fit_transform(new_data['Processor']) \n",
    "label_maping[\"Processor\"]['real'] = label_encoder.classes_\n",
    "label_maping[\"Processor\"]['encoded'] = label_encoder.transform(label_encoder.classes_) \n",
    "#----------------------------------------------------------------------------------------------------\n",
    "new_data['GPU'] = label_encoder.fit_transform(new_data['GPU'])  \n",
    "label_maping[\"GPU\"]['real'] = label_encoder.classes_\n",
    "label_maping[\"GPU\"]['encoded'] = label_encoder.transform(label_encoder.classes_)\n",
    "#----------------------------------------------------------------------------------------------------\n",
    "print(new_data)  "
   ]
  },
  {
   "cell_type": "code",
   "execution_count": 14,
   "metadata": {},
   "outputs": [
    {
     "name": "stdout",
     "output_type": "stream",
     "text": [
      "Brand : {'real': array(['Acer', 'Apple', 'Asus', 'Dell', 'HP', 'Lenovo', 'MSI',\n",
      "       'Microsoft', 'Razer', 'Samsung'], dtype=object), 'encoded': array([0, 1, 2, 3, 4, 5, 6, 7, 8, 9])}\n",
      "Operating System : {'real': array(['FreeDOS', 'Linux', 'Windows', 'macOS'], dtype=object), 'encoded': array([0, 1, 2, 3])}\n",
      "Processor : {'real': array(['AMD Ryzen 3', 'AMD Ryzen 5', 'AMD Ryzen 7', 'AMD Ryzen 9',\n",
      "       'Intel i3', 'Intel i5', 'Intel i7', 'Intel i9'], dtype=object), 'encoded': array([0, 1, 2, 3, 4, 5, 6, 7])}\n",
      "GPU : {'real': array(['AMD Radeon RX 6600', 'AMD Radeon RX 6800', 'Integrated',\n",
      "       'Nvidia GTX 1650', 'Nvidia RTX 2060', 'Nvidia RTX 3060',\n",
      "       'Nvidia RTX 3080'], dtype=object), 'encoded': array([0, 1, 2, 3, 4, 5, 6])}\n"
     ]
    }
   ],
   "source": [
    "for key , value in label_maping.items():\n",
    "    print(f\"{key} : {value}\")"
   ]
  },
  {
   "cell_type": "markdown",
   "metadata": {
    "id": "LJ9x-8_cjwpO"
   },
   "source": [
    "<br>\n",
    "<div dir=\"rtl\">\n",
    "    <p>\n",
    "        <font size=4>\n",
    "            <li>\n",
    "                نمودار توزیع قیمت (Price) رو به کمک Histogram رسم و بررسی کنید.\n",
    "            </li>\n",
    "        </font>\n",
    "    </p>\n",
    "</div>\n",
    "<br>\n",
    "<br>"
   ]
  },
  {
   "cell_type": "code",
   "execution_count": 15,
   "metadata": {
    "id": "LH6geW5l1Zqe"
   },
   "outputs": [
    {
     "data": {
      "image/png": "[encoded data removed]",
      "text/plain": [
       "<Figure size 1400x800 with 2 Axes>"
      ]
     },
     "metadata": {},
     "output_type": "display_data"
    }
   ],
   "source": [
    "# TODO : رسم هیستوگرام قیمت\n",
    "plt.figure(figsize=(14,8))\n",
    "corr = new_data.corr(numeric_only=True)\n",
    "sns.heatmap(corr,square=True,annot=True,fmt=\".3f\")\n",
    "plt.show()"
   ]
  },
  {
   "cell_type": "markdown",
   "metadata": {
    "id": "qZ08vwpSk8DY"
   },
   "source": [
    "## ارزیابی:\n",
    "*ارزیابی خودتان از کد و خروجی حاصل از آن را بنویسید*\n",
    "1. اول ازر همه با توجه به جدول همبستگی رم - پردازنده - رزولیشن همبستگی زیادی به ستون هدف یا قیمت درون دیتاست دارند\n",
    "2. دوم اینکه نوع سیستم عامل و حافظه همبستگی منفی برای ستون قیمت دارد\n"
   ]
  },
  {
   "cell_type": "markdown",
   "metadata": {
    "id": "qx46TSU1mfD3"
   },
   "source": [
    "<div dir=\"rtl\">\n",
    "    <p>\n",
    "        <font size=4>\n",
    "            <li>\n",
    "                تعداد لپتاپ های در برند را با نمودار Barplot نشان دهید.\n",
    "            </li>\n",
    "        </font>\n",
    "    </p>\n",
    "</div>\n",
    "<br>"
   ]
  },
  {
   "cell_type": "code",
   "execution_count": 16,
   "metadata": {
    "id": "OSe8CxYchy_6"
   },
   "outputs": [
    {
     "data": {
      "image/png": "[encoded data removed]",
      "text/plain": [
       "<Figure size 1500x500 with 1 Axes>"
      ]
     },
     "metadata": {},
     "output_type": "display_data"
    }
   ],
   "source": [
    "# TODO تعداد لپتاپ ها موجود در دیتاست را بر اساس نام برند نشان دهید.\n",
    "def show_laptop_count_by_brand(data):  \n",
    "    \"\"\"این تابع تعداد لپ‌تاپ‌ها را بر اساس برند نمایش می‌دهد.\"\"\"  \n",
    "    count_laptop_by_name = data.groupby('Brand').size().reset_index(name='Count')  \n",
    "    \n",
    "    plt.figure(figsize=(15,5))  \n",
    "    sns.barplot(data=count_laptop_by_name, x='Brand', y='Count', palette='viridis')  \n",
    "    plt.title('Count of Laptops by Brand', fontsize=14)  \n",
    "    plt.xlabel('Brand', fontsize=12)  \n",
    "    plt.ylabel('Count', fontsize=12)  \n",
    "    plt.xticks(rotation=45, ha='right')  \n",
    "     \n",
    "    for p in plt.gca().patches:  \n",
    "        plt.annotate(f'{p.get_height()}',   \n",
    "                     (p.get_x() + p.get_width() / 2., p.get_height()),   \n",
    "                     ha='center', va='bottom',   \n",
    "                     xytext=(0, 5),   \n",
    "                     textcoords='offset points')  \n",
    "\n",
    "    plt.show()\n",
    "show_laptop_count_by_brand(data)"
   ]
  },
  {
   "cell_type": "markdown",
   "metadata": {
    "id": "4We0uoxEmzJ0"
   },
   "source": [
    "## ارزیابی:\n",
    "*ارزیابی خودتان از کد و خروجی حاصل از آن را بنویسید*\n",
    "1. براساس خروجی لپ تاپ های اپل - اچ پی و ام اس آی بیشترین تعداد را درون دیتاست دارند\n"
   ]
  },
  {
   "cell_type": "markdown",
   "metadata": {
    "id": "9Ujiy-hm1EFe"
   },
   "source": [
    "<div dir=\"rtl\">\n",
    "    <p>\n",
    "        <font size=4>\n",
    "            <li>\n",
    "                میانگین قیمت برای هر برند را با Bar Plot نشان دهید.\n",
    "            </li>\n",
    "        </font>\n",
    "    </p>\n",
    "</div>\n",
    "<br>"
   ]
  },
  {
   "cell_type": "code",
   "execution_count": 17,
   "metadata": {},
   "outputs": [],
   "source": [
    "def show_average_price_by_column(data,column_name,title,x_label):  \n",
    "    \"\"\"این تابع متوسط قیمت لپ‌تاپ‌ها را بر اساس ستون نمایش می‌دهد.\"\"\"  \n",
    " \n",
    "    average_price_by_brand = data.groupby(column_name)['Price ($)'].mean().reset_index(name='Average Price')  \n",
    "    \n",
    "    plt.figure(figsize=(15,5))  \n",
    "    \n",
    "\n",
    "    ax = sns.barplot(data=average_price_by_brand, x=column_name, y='Average Price', palette='viridis')  \n",
    "    \n",
    "    plt.title(title, fontsize=14)  \n",
    "    plt.xlabel(x_label, fontsize=12)  \n",
    "    plt.ylabel('Average Price ($)', fontsize=12)  \n",
    "    plt.xticks(rotation=45, ha='right')  \n",
    "\n",
    " \n",
    "    for p in ax.patches:  \n",
    "        ax.annotate(f'${p.get_height():,.2f}',   \n",
    "                     (p.get_x() + p.get_width() / 2.0, p.get_height()),   \n",
    "                     ha='center', va='bottom',   \n",
    "                     xytext=(0, 5),   \n",
    "                     textcoords='offset points')  \n",
    "\n",
    "    plt.show()"
   ]
  },
  {
   "cell_type": "code",
   "execution_count": 18,
   "metadata": {
    "id": "6imhX6G2hy63"
   },
   "outputs": [
    {
     "data": {
      "image/png": "[encoded data removed]",
      "text/plain": [
       "<Figure size 1500x500 with 1 Axes>"
      ]
     },
     "metadata": {},
     "output_type": "display_data"
    }
   ],
   "source": [
    "# TODO: میانگین قیمت برندهای مختلف\n",
    "show_average_price_by_column(data,\"Brand\",\"Average Price of Laptops by Brand\",\"Brand\")\n"
   ]
  },
  {
   "cell_type": "markdown",
   "metadata": {
    "id": "i_ztvb1uoKUF"
   },
   "source": [
    "## ارزیابی:\n",
    "*ارزیابی خودتان از کد و خروجی حاصل از آن را بنویسید*\n",
    "1. در میانگین قیمت به ترتیب محصولات اپل - ریزر - ام اس آی بیشترین هستند\n"
   ]
  },
  {
   "cell_type": "markdown",
   "metadata": {
    "id": "RkJW273C10Fk"
   },
   "source": [
    "<br>\n",
    "<div dir=\"rtl\">\n",
    "    <p>\n",
    "        <font size=4>\n",
    "            <li>\n",
    "                قیمت لپتاپ های هر برند را با Boxplot رسم کنید و توزیع قیمت برای هر برند را بررسی کنید\n",
    "            </li>\n",
    "        </font>\n",
    "    </p>\n",
    "</div>\n",
    "<br>"
   ]
  },
  {
   "cell_type": "code",
   "execution_count": 19,
   "metadata": {
    "id": "cNrpXgUFhz7z"
   },
   "outputs": [
    {
     "data": {
      "image/png": "[encoded data removed]",
      "text/plain": [
       "<Figure size 2000x1000 with 1 Axes>"
      ]
     },
     "metadata": {},
     "output_type": "display_data"
    }
   ],
   "source": [
    "# TODO: جعبه‌ای قیمت لپ‌تاپ‌های هر برند\n",
    "plt.figure(figsize=(20,10))\n",
    "data_price_brand = data.groupby('Brand')\n",
    "sns.boxplot(data,y=data['Price ($)'],x=data[\"Brand\"])\n",
    "plt.xticks(rotation=90)\n",
    "plt.show()"
   ]
  },
  {
   "cell_type": "markdown",
   "metadata": {
    "id": "fgGmfy7NpRsB"
   },
   "source": [
    "## ارزیابی:\n",
    "*ارزیابی خودتان از کد و خروجی حاصل از آن را بنویسید*\n",
    "1. با توجه به تصویر خروجی نمودار شاهد پراکندگی زیادی از داده ها هستیم"
   ]
  },
  {
   "cell_type": "markdown",
   "metadata": {
    "id": "VMQKPHU2VUqS"
   },
   "source": [
    "<br>\n",
    "<div dir=\"rtl\">\n",
    "    <p>\n",
    "        <font size=4>\n",
    "            <li>\n",
    "                    داده های پرت (Outliers) ها در این دیتاست بررسی کنید و به کمک نمودار Boxplot وضیعت آنها را نمایش دهید\n",
    "            </li>\n",
    "        </font>\n",
    "    </p>\n",
    "</div>\n",
    "<br>"
   ]
  },
  {
   "cell_type": "code",
   "execution_count": 20,
   "metadata": {},
   "outputs": [],
   "source": [
    "def remove_outliers(df, column_list):  \n",
    "    for column in column_list:  \n",
    "        Q1 = np.percentile(df[column], 25)  # 20% percentile  \n",
    "        Q3 = np.percentile(df[column], 75)  # 80% percentile  \n",
    "        IQR = Q3 - Q1  \n",
    "        lower_bound = Q1 - 1.5 * IQR  \n",
    "        upper_bound = Q3 + 1.5 * IQR  \n",
    "        df = df[(df[column] >= lower_bound) & (df[column] <= upper_bound)]  \n",
    "    display(df)\n",
    "    return df "
   ]
  },
  {
   "cell_type": "code",
   "execution_count": 21,
   "metadata": {
    "id": "aze6E18NVE-D"
   },
   "outputs": [
    {
     "data": {
      "text/html": [
       "<div>\n",
       "<style scoped>\n",
       "    .dataframe tbody tr th:only-of-type {\n",
       "        vertical-align: middle;\n",
       "    }\n",
       "\n",
       "    .dataframe tbody tr th {\n",
       "        vertical-align: top;\n",
       "    }\n",
       "\n",
       "    .dataframe thead th {\n",
       "        text-align: right;\n",
       "    }\n",
       "</style>\n",
       "<table border=\"1\" class=\"dataframe\">\n",
       "  <thead>\n",
       "    <tr style=\"text-align: right;\">\n",
       "      <th></th>\n",
       "      <th>Brand</th>\n",
       "      <th>Processor</th>\n",
       "      <th>RAM (GB)</th>\n",
       "      <th>Storage</th>\n",
       "      <th>GPU</th>\n",
       "      <th>Screen Size (inch)</th>\n",
       "      <th>Resolution</th>\n",
       "      <th>Battery Life (hours)</th>\n",
       "      <th>Weight (kg)</th>\n",
       "      <th>Operating System</th>\n",
       "      <th>Price ($)</th>\n",
       "    </tr>\n",
       "  </thead>\n",
       "  <tbody>\n",
       "    <tr>\n",
       "      <th>0</th>\n",
       "      <td>1</td>\n",
       "      <td>0</td>\n",
       "      <td>64.0</td>\n",
       "      <td>512</td>\n",
       "      <td>3</td>\n",
       "      <td>17.3</td>\n",
       "      <td>3686400</td>\n",
       "      <td>8.9</td>\n",
       "      <td>1.42</td>\n",
       "      <td>0</td>\n",
       "      <td>3997.07</td>\n",
       "    </tr>\n",
       "    <tr>\n",
       "      <th>1</th>\n",
       "      <td>8</td>\n",
       "      <td>2</td>\n",
       "      <td>4.0</td>\n",
       "      <td>1000</td>\n",
       "      <td>6</td>\n",
       "      <td>14.0</td>\n",
       "      <td>1065948</td>\n",
       "      <td>9.4</td>\n",
       "      <td>2.57</td>\n",
       "      <td>1</td>\n",
       "      <td>1355.78</td>\n",
       "    </tr>\n",
       "    <tr>\n",
       "      <th>3</th>\n",
       "      <td>5</td>\n",
       "      <td>5</td>\n",
       "      <td>4.0</td>\n",
       "      <td>256</td>\n",
       "      <td>6</td>\n",
       "      <td>13.3</td>\n",
       "      <td>1065948</td>\n",
       "      <td>10.5</td>\n",
       "      <td>3.10</td>\n",
       "      <td>2</td>\n",
       "      <td>751.17</td>\n",
       "    </tr>\n",
       "    <tr>\n",
       "      <th>4</th>\n",
       "      <td>8</td>\n",
       "      <td>4</td>\n",
       "      <td>4.0</td>\n",
       "      <td>256</td>\n",
       "      <td>0</td>\n",
       "      <td>16.0</td>\n",
       "      <td>8294400</td>\n",
       "      <td>5.7</td>\n",
       "      <td>3.38</td>\n",
       "      <td>1</td>\n",
       "      <td>2059.83</td>\n",
       "    </tr>\n",
       "    <tr>\n",
       "      <th>6</th>\n",
       "      <td>3</td>\n",
       "      <td>5</td>\n",
       "      <td>8.0</td>\n",
       "      <td>1000</td>\n",
       "      <td>4</td>\n",
       "      <td>15.6</td>\n",
       "      <td>3686400</td>\n",
       "      <td>9.1</td>\n",
       "      <td>1.98</td>\n",
       "      <td>2</td>\n",
       "      <td>1449.05</td>\n",
       "    </tr>\n",
       "    <tr>\n",
       "      <th>...</th>\n",
       "      <td>...</td>\n",
       "      <td>...</td>\n",
       "      <td>...</td>\n",
       "      <td>...</td>\n",
       "      <td>...</td>\n",
       "      <td>...</td>\n",
       "      <td>...</td>\n",
       "      <td>...</td>\n",
       "      <td>...</td>\n",
       "      <td>...</td>\n",
       "      <td>...</td>\n",
       "    </tr>\n",
       "    <tr>\n",
       "      <th>11760</th>\n",
       "      <td>4</td>\n",
       "      <td>0</td>\n",
       "      <td>8.0</td>\n",
       "      <td>1000</td>\n",
       "      <td>0</td>\n",
       "      <td>13.3</td>\n",
       "      <td>15360800</td>\n",
       "      <td>10.3</td>\n",
       "      <td>3.36</td>\n",
       "      <td>3</td>\n",
       "      <td>950.07</td>\n",
       "    </tr>\n",
       "    <tr>\n",
       "      <th>11761</th>\n",
       "      <td>3</td>\n",
       "      <td>4</td>\n",
       "      <td>64.0</td>\n",
       "      <td>1000</td>\n",
       "      <td>0</td>\n",
       "      <td>17.3</td>\n",
       "      <td>3686400</td>\n",
       "      <td>11.5</td>\n",
       "      <td>1.93</td>\n",
       "      <td>2</td>\n",
       "      <td>2683.44</td>\n",
       "    </tr>\n",
       "    <tr>\n",
       "      <th>11762</th>\n",
       "      <td>1</td>\n",
       "      <td>3</td>\n",
       "      <td>16.0</td>\n",
       "      <td>1000</td>\n",
       "      <td>0</td>\n",
       "      <td>15.6</td>\n",
       "      <td>15360800</td>\n",
       "      <td>10.9</td>\n",
       "      <td>1.55</td>\n",
       "      <td>0</td>\n",
       "      <td>2704.23</td>\n",
       "    </tr>\n",
       "    <tr>\n",
       "      <th>11766</th>\n",
       "      <td>9</td>\n",
       "      <td>2</td>\n",
       "      <td>16.0</td>\n",
       "      <td>512</td>\n",
       "      <td>2</td>\n",
       "      <td>13.3</td>\n",
       "      <td>15360800</td>\n",
       "      <td>7.5</td>\n",
       "      <td>1.48</td>\n",
       "      <td>3</td>\n",
       "      <td>1067.13</td>\n",
       "    </tr>\n",
       "    <tr>\n",
       "      <th>11767</th>\n",
       "      <td>9</td>\n",
       "      <td>6</td>\n",
       "      <td>8.0</td>\n",
       "      <td>256</td>\n",
       "      <td>6</td>\n",
       "      <td>17.3</td>\n",
       "      <td>3686400</td>\n",
       "      <td>6.4</td>\n",
       "      <td>2.45</td>\n",
       "      <td>0</td>\n",
       "      <td>1579.55</td>\n",
       "    </tr>\n",
       "  </tbody>\n",
       "</table>\n",
       "<p>8869 rows × 11 columns</p>\n",
       "</div>"
      ],
      "text/plain": [
       "       Brand  Processor  RAM (GB)  Storage  GPU  Screen Size (inch)  \\\n",
       "0          1          0      64.0      512    3                17.3   \n",
       "1          8          2       4.0     1000    6                14.0   \n",
       "3          5          5       4.0      256    6                13.3   \n",
       "4          8          4       4.0      256    0                16.0   \n",
       "6          3          5       8.0     1000    4                15.6   \n",
       "...      ...        ...       ...      ...  ...                 ...   \n",
       "11760      4          0       8.0     1000    0                13.3   \n",
       "11761      3          4      64.0     1000    0                17.3   \n",
       "11762      1          3      16.0     1000    0                15.6   \n",
       "11766      9          2      16.0      512    2                13.3   \n",
       "11767      9          6       8.0      256    6                17.3   \n",
       "\n",
       "       Resolution  Battery Life (hours)  Weight (kg)  Operating System  \\\n",
       "0         3686400                   8.9         1.42                 0   \n",
       "1         1065948                   9.4         2.57                 1   \n",
       "3         1065948                  10.5         3.10                 2   \n",
       "4         8294400                   5.7         3.38                 1   \n",
       "6         3686400                   9.1         1.98                 2   \n",
       "...           ...                   ...          ...               ...   \n",
       "11760    15360800                  10.3         3.36                 3   \n",
       "11761     3686400                  11.5         1.93                 2   \n",
       "11762    15360800                  10.9         1.55                 0   \n",
       "11766    15360800                   7.5         1.48                 3   \n",
       "11767     3686400                   6.4         2.45                 0   \n",
       "\n",
       "       Price ($)  \n",
       "0        3997.07  \n",
       "1        1355.78  \n",
       "3         751.17  \n",
       "4        2059.83  \n",
       "6        1449.05  \n",
       "...          ...  \n",
       "11760     950.07  \n",
       "11761    2683.44  \n",
       "11762    2704.23  \n",
       "11766    1067.13  \n",
       "11767    1579.55  \n",
       "\n",
       "[8869 rows x 11 columns]"
      ]
     },
     "metadata": {},
     "output_type": "display_data"
    }
   ],
   "source": [
    "# TODO: داده های پرت را توسط نمودار Boxplot انالیز کنید\n",
    "new_data = remove_outliers(new_data,[name for name in data])"
   ]
  },
  {
   "cell_type": "markdown",
   "metadata": {
    "id": "VTBVItb0oL4n"
   },
   "source": [
    "## ارزیابی:\n",
    "*ارزیابی خودتان از کد و خروجی حاصل از آن را بنویسید*\n",
    "1. ....\n",
    "2. ....\n",
    "3. ....\n"
   ]
  },
  {
   "cell_type": "markdown",
   "metadata": {
    "id": "4fHR5ubr2V_Z"
   },
   "source": [
    "<br>\n",
    "<br>\n",
    "<div dir=\"rtl\">\n",
    "    <p>\n",
    "        <font size=4>\n",
    "            <li>\n",
    "                میانگین قیمت لپتاپ ها بر اساس نوع Processor بررسی کنید و از نمودار Barplot برای مصورسازی استفاده کنید.\n",
    "            </li>\n",
    "        </font>\n",
    "    </p>\n",
    "</div>\n",
    "<br>"
   ]
  },
  {
   "cell_type": "code",
   "execution_count": 22,
   "metadata": {
    "id": "Sq_tOVOyhz5G"
   },
   "outputs": [
    {
     "data": {
      "image/png": "[encoded data removed]",
      "text/plain": [
       "<Figure size 1500x500 with 1 Axes>"
      ]
     },
     "metadata": {},
     "output_type": "display_data"
    }
   ],
   "source": [
    "# TODO: میانگین قیمت بر اساس Processor\n",
    "show_average_price_by_column(data,\"Processor\",\"Average Price of Laptops by Processor\",\"Processor\")\n"
   ]
  },
  {
   "cell_type": "markdown",
   "metadata": {
    "id": "9Xj2vDiaox35"
   },
   "source": [
    "## ارزیابی:\n",
    "*ارزیابی خودتان از کد و خروجی حاصل از آن را بنویسید*\n",
    "1. پردازنده ها با توجه به کیفیتی که دارند قیمت بالاتری هم دارند\n"
   ]
  },
  {
   "cell_type": "markdown",
   "metadata": {
    "id": "Q-bpVc5i2oC6"
   },
   "source": [
    "<br>\n",
    "<br>\n",
    "<div dir=\"rtl\">\n",
    "    <p>\n",
    "        <font size=4>\n",
    "            <li>\n",
    "                میانگین قیمت لپتاپ ها بر اساس نوع RAM بررسی کنید و از نمودار Barplot برای مصورسازی استفاده کنید.\n",
    "            </li>\n",
    "        </font>\n",
    "    </p>\n",
    "</div>\n",
    "<br>"
   ]
  },
  {
   "cell_type": "code",
   "execution_count": 23,
   "metadata": {
    "id": "7AqE1N-xhzz8"
   },
   "outputs": [
    {
     "data": {
      "image/png": "[encoded data removed]",
      "text/plain": [
       "<Figure size 1500x500 with 1 Axes>"
      ]
     },
     "metadata": {},
     "output_type": "display_data"
    }
   ],
   "source": [
    "# TODO: میانگین قیمت بر اساس RAM\n",
    "show_average_price_by_column(data,'RAM (GB)',\"Average Price of Laptops by RAM\",\"RAM\")\n"
   ]
  },
  {
   "cell_type": "markdown",
   "metadata": {
    "id": "hipAzsaspBUF"
   },
   "source": [
    "## ارزیابی:\n",
    "*ارزیابی خودتان از کد و خروجی حاصل از آن را بنویسید*\n",
    "1. بصورت پلکانی میانگین قیمت ها بر اساس نوع رم افزایش پیدا کرده است"
   ]
  },
  {
   "cell_type": "markdown",
   "metadata": {
    "id": "8caeDzSl3B3k"
   },
   "source": [
    "<br>\n",
    "<br>\n",
    "<div dir=\"rtl\">\n",
    "    <p>\n",
    "        <font size=4>\n",
    "            <li>\n",
    "                از نمودار Pie برای بررسی سهم سیستم عامل لپ تاپ ها استفاده کنید.\n",
    "            </li>\n",
    "        </font>\n",
    "    </p>\n",
    "</div>"
   ]
  },
  {
   "cell_type": "markdown",
   "metadata": {
    "id": "cQGXwJQZKhjF"
   },
   "source": [
    "<br>\n",
    "<div dir=\"rtl\">\n",
    "    <font size=5 color=\"red\">راهنمایی</font>\n",
    "    <br>\n",
    "    <font size=\"4\">\n",
    "        این پلات یک <strong>دونات چارت تعاملی (interactive donut chart)</strong> است که با ابزارهایی مثل <strong>Plotly</strong> در پایتون قابل پیاده‌سازی است. ویژگی تعاملی بودن آن باعث می‌شود که کاربران بتوانند با حرکت ماوس روی هر بخش، اطلاعات دقیق‌تر را مشاهده کنند.\n",
    "        <br><br>\n",
    "        <strong>کاربردها:</strong>\n",
    "        <br> - نمایش توزیع دسته‌بندی‌شده داده‌ها (مثلاً سهم سیستم‌عامل‌های مختلف)\n",
    "        <br> - امکان تحلیل بهتر از طریق تعامل با داده‌ها\n",
    "        <br> - بصری‌سازی جذاب برای گزارش‌ها و داشبوردهای تحلیلی\n",
    "        <br><br>\n",
    "        شما باید کدی بنویسید که چنین نموداری را ایجاد کند و قابلیت تعامل داشته باشد.\n",
    "        <br><br>\n",
    "        <a href=\"https://imgbb.com/\">\n",
    "            <img src=\"https://i.ibb.co/XZqncb6y/Screenshot-2025-03-10-115421.png\" alt=\"دونات چارت تعاملی\" border=\"0\">\n",
    "        </a>\n",
    "    </font>\n",
    "</div>\n",
    "<br>"
   ]
  },
  {
   "cell_type": "code",
   "execution_count": 25,
   "metadata": {
    "id": "SlF2INT0sAEi"
   },
   "outputs": [],
   "source": [
    "# TODO: کتابحانه plotly را ایمپورت کنید\n",
    "import plotly.express as px"
   ]
  },
  {
   "cell_type": "code",
   "execution_count": null,
   "metadata": {
    "id": "1ITUN5ofJ01I"
   },
   "outputs": [
    {
     "data": {
      "application/vnd.plotly.v1+json": {
       "config": {
        "plotlyServerURL": "https://plot.ly"
       },
       "data": [
        {
         "domain": {
          "x": [
           0,
           1
          ],
          "y": [
           0,
           1
          ]
         },
         "hovertemplate": "Operating System=%{label}<br>Count=%{value}<extra></extra>",
         "labels": [
          "Windows",
          "FreeDOS",
          "Linux",
          "macOS"
         ],
         "legendgroup": "",
         "name": "",
         "showlegend": true,
         "textinfo": "percent+label",
         "textposition": "inside",
         "type": "pie",
         "values": [
          2954,
          2952,
          2946,
          2916
         ]
        }
       ],
       "layout": {
        "legend": {
         "tracegroupgap": 0
        },
        "piecolorway": [
         "#0d0887",
         "#46039f",
         "#7201a8",
         "#9c179e",
         "#bd3786",
         "#d8576b",
         "#ed7953",
         "#fb9f3a",
         "#fdca26",
         "#f0f921"
        ],
        "template": {
         "data": {
          "bar": [
           {
            "error_x": {
             "color": "#2a3f5f"
            },
            "error_y": {
             "color": "#2a3f5f"
            },
            "marker": {
             "line": {
              "color": "#E5ECF6",
              "width": 0.5
             },
             "pattern": {
              "fillmode": "overlay",
              "size": 10,
              "solidity": 0.2
             }
            },
            "type": "bar"
           }
          ],
          "barpolar": [
           {
            "marker": {
             "line": {
              "color": "#E5ECF6",
              "width": 0.5
             },
             "pattern": {
              "fillmode": "overlay",
              "size": 10,
              "solidity": 0.2
             }
            },
            "type": "barpolar"
           }
          ],
          "carpet": [
           {
            "aaxis": {
             "endlinecolor": "#2a3f5f",
             "gridcolor": "white",
             "linecolor": "white",
             "minorgridcolor": "white",
             "startlinecolor": "#2a3f5f"
            },
            "baxis": {
             "endlinecolor": "#2a3f5f",
             "gridcolor": "white",
             "linecolor": "white",
             "minorgridcolor": "white",
             "startlinecolor": "#2a3f5f"
            },
            "type": "carpet"
           }
          ],
          "choropleth": [
           {
            "colorbar": {
             "outlinewidth": 0,
             "ticks": ""
            },
            "type": "choropleth"
           }
          ],
          "contour": [
           {
            "colorbar": {
             "outlinewidth": 0,
             "ticks": ""
            },
            "colorscale": [
             [
              0,
              "#0d0887"
             ],
             [
              0.1111111111111111,
              "#46039f"
             ],
             [
              0.2222222222222222,
              "#7201a8"
             ],
             [
              0.3333333333333333,
              "#9c179e"
             ],
             [
              0.4444444444444444,
              "#bd3786"
             ],
             [
              0.5555555555555556,
              "#d8576b"
             ],
             [
              0.6666666666666666,
              "#ed7953"
             ],
             [
              0.7777777777777778,
              "#fb9f3a"
             ],
             [
              0.8888888888888888,
              "#fdca26"
             ],
             [
              1,
              "#f0f921"
             ]
            ],
            "type": "contour"
           }
          ],
          "contourcarpet": [
           {
            "colorbar": {
             "outlinewidth": 0,
             "ticks": ""
            },
            "type": "contourcarpet"
           }
          ],
          "heatmap": [
           {
            "colorbar": {
             "outlinewidth": 0,
             "ticks": ""
            },
            "colorscale": [
             [
              0,
              "#0d0887"
             ],
             [
              0.1111111111111111,
              "#46039f"
             ],
             [
              0.2222222222222222,
              "#7201a8"
             ],
             [
              0.3333333333333333,
              "#9c179e"
             ],
             [
              0.4444444444444444,
              "#bd3786"
             ],
             [
              0.5555555555555556,
              "#d8576b"
             ],
             [
              0.6666666666666666,
              "#ed7953"
             ],
             [
              0.7777777777777778,
              "#fb9f3a"
             ],
             [
              0.8888888888888888,
              "#fdca26"
             ],
             [
              1,
              "#f0f921"
             ]
            ],
            "type": "heatmap"
           }
          ],
          "heatmapgl": [
           {
            "colorbar": {
             "outlinewidth": 0,
             "ticks": ""
            },
            "colorscale": [
             [
              0,
              "#0d0887"
             ],
             [
              0.1111111111111111,
              "#46039f"
             ],
             [
              0.2222222222222222,
              "#7201a8"
             ],
             [
              0.3333333333333333,
              "#9c179e"
             ],
             [
              0.4444444444444444,
              "#bd3786"
             ],
             [
              0.5555555555555556,
              "#d8576b"
             ],
             [
              0.6666666666666666,
              "#ed7953"
             ],
             [
              0.7777777777777778,
              "#fb9f3a"
             ],
             [
              0.8888888888888888,
              "#fdca26"
             ],
             [
              1,
              "#f0f921"
             ]
            ],
            "type": "heatmapgl"
           }
          ],
          "histogram": [
           {
            "marker": {
             "pattern": {
              "fillmode": "overlay",
              "size": 10,
              "solidity": 0.2
             }
            },
            "type": "histogram"
           }
          ],
          "histogram2d": [
           {
            "colorbar": {
             "outlinewidth": 0,
             "ticks": ""
            },
            "colorscale": [
             [
              0,
              "#0d0887"
             ],
             [
              0.1111111111111111,
              "#46039f"
             ],
             [
              0.2222222222222222,
              "#7201a8"
             ],
             [
              0.3333333333333333,
              "#9c179e"
             ],
             [
              0.4444444444444444,
              "#bd3786"
             ],
             [
              0.5555555555555556,
              "#d8576b"
             ],
             [
              0.6666666666666666,
              "#ed7953"
             ],
             [
              0.7777777777777778,
              "#fb9f3a"
             ],
             [
              0.8888888888888888,
              "#fdca26"
             ],
             [
              1,
              "#f0f921"
             ]
            ],
            "type": "histogram2d"
           }
          ],
          "histogram2dcontour": [
           {
            "colorbar": {
             "outlinewidth": 0,
             "ticks": ""
            },
            "colorscale": [
             [
              0,
              "#0d0887"
             ],
             [
              0.1111111111111111,
              "#46039f"
             ],
             [
              0.2222222222222222,
              "#7201a8"
             ],
             [
              0.3333333333333333,
              "#9c179e"
             ],
             [
              0.4444444444444444,
              "#bd3786"
             ],
             [
              0.5555555555555556,
              "#d8576b"
             ],
             [
              0.6666666666666666,
              "#ed7953"
             ],
             [
              0.7777777777777778,
              "#fb9f3a"
             ],
             [
              0.8888888888888888,
              "#fdca26"
             ],
             [
              1,
              "#f0f921"
             ]
            ],
            "type": "histogram2dcontour"
           }
          ],
          "mesh3d": [
           {
            "colorbar": {
             "outlinewidth": 0,
             "ticks": ""
            },
            "type": "mesh3d"
           }
          ],
          "parcoords": [
           {
            "line": {
             "colorbar": {
              "outlinewidth": 0,
              "ticks": ""
             }
            },
            "type": "parcoords"
           }
          ],
          "pie": [
           {
            "automargin": true,
            "type": "pie"
           }
          ],
          "scatter": [
           {
            "fillpattern": {
             "fillmode": "overlay",
             "size": 10,
             "solidity": 0.2
            },
            "type": "scatter"
           }
          ],
          "scatter3d": [
           {
            "line": {
             "colorbar": {
              "outlinewidth": 0,
              "ticks": ""
             }
            },
            "marker": {
             "colorbar": {
              "outlinewidth": 0,
              "ticks": ""
             }
            },
            "type": "scatter3d"
           }
          ],
          "scattercarpet": [
           {
            "marker": {
             "colorbar": {
              "outlinewidth": 0,
              "ticks": ""
             }
            },
            "type": "scattercarpet"
           }
          ],
          "scattergeo": [
           {
            "marker": {
             "colorbar": {
              "outlinewidth": 0,
              "ticks": ""
             }
            },
            "type": "scattergeo"
           }
          ],
          "scattergl": [
           {
            "marker": {
             "colorbar": {
              "outlinewidth": 0,
              "ticks": ""
             }
            },
            "type": "scattergl"
           }
          ],
          "scattermapbox": [
           {
            "marker": {
             "colorbar": {
              "outlinewidth": 0,
              "ticks": ""
             }
            },
            "type": "scattermapbox"
           }
          ],
          "scatterpolar": [
           {
            "marker": {
             "colorbar": {
              "outlinewidth": 0,
              "ticks": ""
             }
            },
            "type": "scatterpolar"
           }
          ],
          "scatterpolargl": [
           {
            "marker": {
             "colorbar": {
              "outlinewidth": 0,
              "ticks": ""
             }
            },
            "type": "scatterpolargl"
           }
          ],
          "scatterternary": [
           {
            "marker": {
             "colorbar": {
              "outlinewidth": 0,
              "ticks": ""
             }
            },
            "type": "scatterternary"
           }
          ],
          "surface": [
           {
            "colorbar": {
             "outlinewidth": 0,
             "ticks": ""
            },
            "colorscale": [
             [
              0,
              "#0d0887"
             ],
             [
              0.1111111111111111,
              "#46039f"
             ],
             [
              0.2222222222222222,
              "#7201a8"
             ],
             [
              0.3333333333333333,
              "#9c179e"
             ],
             [
              0.4444444444444444,
              "#bd3786"
             ],
             [
              0.5555555555555556,
              "#d8576b"
             ],
             [
              0.6666666666666666,
              "#ed7953"
             ],
             [
              0.7777777777777778,
              "#fb9f3a"
             ],
             [
              0.8888888888888888,
              "#fdca26"
             ],
             [
              1,
              "#f0f921"
             ]
            ],
            "type": "surface"
           }
          ],
          "table": [
           {
            "cells": {
             "fill": {
              "color": "#EBF0F8"
             },
             "line": {
              "color": "white"
             }
            },
            "header": {
             "fill": {
              "color": "#C8D4E3"
             },
             "line": {
              "color": "white"
             }
            },
            "type": "table"
           }
          ]
         },
         "layout": {
          "annotationdefaults": {
           "arrowcolor": "#2a3f5f",
           "arrowhead": 0,
           "arrowwidth": 1
          },
          "autotypenumbers": "strict",
          "coloraxis": {
           "colorbar": {
            "outlinewidth": 0,
            "ticks": ""
           }
          },
          "colorscale": {
           "diverging": [
            [
             0,
             "#8e0152"
            ],
            [
             0.1,
             "#c51b7d"
            ],
            [
             0.2,
             "#de77ae"
            ],
            [
             0.3,
             "#f1b6da"
            ],
            [
             0.4,
             "#fde0ef"
            ],
            [
             0.5,
             "#f7f7f7"
            ],
            [
             0.6,
             "#e6f5d0"
            ],
            [
             0.7,
             "#b8e186"
            ],
            [
             0.8,
             "#7fbc41"
            ],
            [
             0.9,
             "#4d9221"
            ],
            [
             1,
             "#276419"
            ]
           ],
           "sequential": [
            [
             0,
             "#0d0887"
            ],
            [
             0.1111111111111111,
             "#46039f"
            ],
            [
             0.2222222222222222,
             "#7201a8"
            ],
            [
             0.3333333333333333,
             "#9c179e"
            ],
            [
             0.4444444444444444,
             "#bd3786"
            ],
            [
             0.5555555555555556,
             "#d8576b"
            ],
            [
             0.6666666666666666,
             "#ed7953"
            ],
            [
             0.7777777777777778,
             "#fb9f3a"
            ],
            [
             0.8888888888888888,
             "#fdca26"
            ],
            [
             1,
             "#f0f921"
            ]
           ],
           "sequentialminus": [
            [
             0,
             "#0d0887"
            ],
            [
             0.1111111111111111,
             "#46039f"
            ],
            [
             0.2222222222222222,
             "#7201a8"
            ],
            [
             0.3333333333333333,
             "#9c179e"
            ],
            [
             0.4444444444444444,
             "#bd3786"
            ],
            [
             0.5555555555555556,
             "#d8576b"
            ],
            [
             0.6666666666666666,
             "#ed7953"
            ],
            [
             0.7777777777777778,
             "#fb9f3a"
            ],
            [
             0.8888888888888888,
             "#fdca26"
            ],
            [
             1,
             "#f0f921"
            ]
           ]
          },
          "colorway": [
           "#636efa",
           "#EF553B",
           "#00cc96",
           "#ab63fa",
           "#FFA15A",
           "#19d3f3",
           "#FF6692",
           "#B6E880",
           "#FF97FF",
           "#FECB52"
          ],
          "font": {
           "color": "#2a3f5f"
          },
          "geo": {
           "bgcolor": "white",
           "lakecolor": "white",
           "landcolor": "#E5ECF6",
           "showlakes": true,
           "showland": true,
           "subunitcolor": "white"
          },
          "hoverlabel": {
           "align": "left"
          },
          "hovermode": "closest",
          "mapbox": {
           "style": "light"
          },
          "paper_bgcolor": "white",
          "plot_bgcolor": "#E5ECF6",
          "polar": {
           "angularaxis": {
            "gridcolor": "white",
            "linecolor": "white",
            "ticks": ""
           },
           "bgcolor": "#E5ECF6",
           "radialaxis": {
            "gridcolor": "white",
            "linecolor": "white",
            "ticks": ""
           }
          },
          "scene": {
           "xaxis": {
            "backgroundcolor": "#E5ECF6",
            "gridcolor": "white",
            "gridwidth": 2,
            "linecolor": "white",
            "showbackground": true,
            "ticks": "",
            "zerolinecolor": "white"
           },
           "yaxis": {
            "backgroundcolor": "#E5ECF6",
            "gridcolor": "white",
            "gridwidth": 2,
            "linecolor": "white",
            "showbackground": true,
            "ticks": "",
            "zerolinecolor": "white"
           },
           "zaxis": {
            "backgroundcolor": "#E5ECF6",
            "gridcolor": "white",
            "gridwidth": 2,
            "linecolor": "white",
            "showbackground": true,
            "ticks": "",
            "zerolinecolor": "white"
           }
          },
          "shapedefaults": {
           "line": {
            "color": "#2a3f5f"
           }
          },
          "ternary": {
           "aaxis": {
            "gridcolor": "white",
            "linecolor": "white",
            "ticks": ""
           },
           "baxis": {
            "gridcolor": "white",
            "linecolor": "white",
            "ticks": ""
           },
           "bgcolor": "#E5ECF6",
           "caxis": {
            "gridcolor": "white",
            "linecolor": "white",
            "ticks": ""
           }
          },
          "title": {
           "x": 0.05
          },
          "xaxis": {
           "automargin": true,
           "gridcolor": "white",
           "linecolor": "white",
           "ticks": "",
           "title": {
            "standoff": 15
           },
           "zerolinecolor": "white",
           "zerolinewidth": 2
          },
          "yaxis": {
           "automargin": true,
           "gridcolor": "white",
           "linecolor": "white",
           "ticks": "",
           "title": {
            "standoff": 15
           },
           "zerolinecolor": "white",
           "zerolinewidth": 2
          }
         }
        },
        "title": {
         "text": "توزیع سیستم عامل‌ها"
        }
       }
      }
     },
     "metadata": {},
     "output_type": "display_data"
    }
   ],
   "source": [
    "# TODO:کد نمودار Pie را بنویسید\n",
    "os_counts = data['Operating System'].value_counts().reset_index()\n",
    "os_counts.columns = ['Operating System', 'Count']\n",
    "fig = px.pie(os_counts, values='Count', names='Operating System',\n",
    "             title='توزیع سیستم عامل‌ها',\n",
    "             color_discrete_sequence=px.colors.sequential.Plasma)\n",
    "fig.update_traces(textposition='inside', textinfo='percent+label')\n",
    "fig.show()"
   ]
  },
  {
   "cell_type": "markdown",
   "metadata": {
    "id": "FDaMWZG0uuPW"
   },
   "source": [
    "## ارزیابی:\n",
    "*ارزیابی خودتان از کد و خروجی حاصل از آن را بنویسید*\n",
    "1. windows and freeDOS used more\n"
   ]
  },
  {
   "cell_type": "markdown",
   "metadata": {
    "id": "BPMtULaaKD4w"
   },
   "source": [
    "<br>\n",
    "<br>\n",
    "<div dir=\"rtl\">\n",
    "    <p>\n",
    "        <font size=4>\n",
    "            <li>\n",
    "                میانگین قیمت لپتاپ ها را بر اساس GPU و RAM محاسبه کنید و به کمک نمودار Heatmap آنرا نمایش دهید و بررسی و آنالیز کنید.\n",
    "            </li>\n",
    "        </font>\n",
    "    </p>\n",
    "</div>\n",
    "<br>"
   ]
  },
  {
   "cell_type": "code",
   "execution_count": null,
   "metadata": {
    "id": "mz-at41Y0XsA"
   },
   "outputs": [],
   "source": [
    "# مقایسه RAM و GPU در برندهای مختلف\n",
    "\n"
   ]
  },
  {
   "cell_type": "markdown",
   "metadata": {
    "id": "CZ0Dr-Sqiwmf"
   },
   "source": [
    "<div dir=\"rtl\">\n",
    "<font size=\"6\">\n",
    "    <li>\n",
    "    <strong>پیش پردازش داده ها</strong>\n",
    "    </li>\n",
    "</font>\n",
    "<div dir=\"rtl\">\n",
    "    <p>\n",
    "        <font size=4>\n",
    "            <li>\n",
    "                پیش‌پردازش داده‌ها شامل آماده‌سازی داده خام برای تحلیل و مدل‌سازی است. این مرحله شامل پاک‌سازی داده‌ها، مدیریت مقادیر گمشده، تبدیل انواع داده، نرمال‌سازی و استخراج ویژگی‌های مهم برای بهبود عملکرد مدل‌های یادگیری ماشین می‌شود.\n",
    "            </li>\n",
    "        </font>\n",
    "    </p>\n",
    "</div>\n",
    "<br>\n",
    "<br>"
   ]
  },
  {
   "cell_type": "code",
   "execution_count": 27,
   "metadata": {
    "id": "pRPeGwNsgaHL"
   },
   "outputs": [
    {
     "data": {
      "text/html": [
       "<div>\n",
       "<style scoped>\n",
       "    .dataframe tbody tr th:only-of-type {\n",
       "        vertical-align: middle;\n",
       "    }\n",
       "\n",
       "    .dataframe tbody tr th {\n",
       "        vertical-align: top;\n",
       "    }\n",
       "\n",
       "    .dataframe thead th {\n",
       "        text-align: right;\n",
       "    }\n",
       "</style>\n",
       "<table border=\"1\" class=\"dataframe\">\n",
       "  <thead>\n",
       "    <tr style=\"text-align: right;\">\n",
       "      <th></th>\n",
       "      <th>Brand</th>\n",
       "      <th>Processor</th>\n",
       "      <th>RAM (GB)</th>\n",
       "      <th>Storage</th>\n",
       "      <th>GPU</th>\n",
       "      <th>Screen Size (inch)</th>\n",
       "      <th>Resolution</th>\n",
       "      <th>Battery Life (hours)</th>\n",
       "      <th>Weight (kg)</th>\n",
       "      <th>Operating System</th>\n",
       "      <th>Price ($)</th>\n",
       "    </tr>\n",
       "  </thead>\n",
       "  <tbody>\n",
       "    <tr>\n",
       "      <th>0</th>\n",
       "      <td>1</td>\n",
       "      <td>0</td>\n",
       "      <td>64.0</td>\n",
       "      <td>512</td>\n",
       "      <td>3</td>\n",
       "      <td>17.3</td>\n",
       "      <td>3686400</td>\n",
       "      <td>8.9</td>\n",
       "      <td>1.42</td>\n",
       "      <td>0</td>\n",
       "      <td>3997.07</td>\n",
       "    </tr>\n",
       "    <tr>\n",
       "      <th>1</th>\n",
       "      <td>8</td>\n",
       "      <td>2</td>\n",
       "      <td>4.0</td>\n",
       "      <td>1000</td>\n",
       "      <td>6</td>\n",
       "      <td>14.0</td>\n",
       "      <td>1065948</td>\n",
       "      <td>9.4</td>\n",
       "      <td>2.57</td>\n",
       "      <td>1</td>\n",
       "      <td>1355.78</td>\n",
       "    </tr>\n",
       "    <tr>\n",
       "      <th>3</th>\n",
       "      <td>5</td>\n",
       "      <td>5</td>\n",
       "      <td>4.0</td>\n",
       "      <td>256</td>\n",
       "      <td>6</td>\n",
       "      <td>13.3</td>\n",
       "      <td>1065948</td>\n",
       "      <td>10.5</td>\n",
       "      <td>3.10</td>\n",
       "      <td>2</td>\n",
       "      <td>751.17</td>\n",
       "    </tr>\n",
       "    <tr>\n",
       "      <th>4</th>\n",
       "      <td>8</td>\n",
       "      <td>4</td>\n",
       "      <td>4.0</td>\n",
       "      <td>256</td>\n",
       "      <td>0</td>\n",
       "      <td>16.0</td>\n",
       "      <td>8294400</td>\n",
       "      <td>5.7</td>\n",
       "      <td>3.38</td>\n",
       "      <td>1</td>\n",
       "      <td>2059.83</td>\n",
       "    </tr>\n",
       "    <tr>\n",
       "      <th>6</th>\n",
       "      <td>3</td>\n",
       "      <td>5</td>\n",
       "      <td>8.0</td>\n",
       "      <td>1000</td>\n",
       "      <td>4</td>\n",
       "      <td>15.6</td>\n",
       "      <td>3686400</td>\n",
       "      <td>9.1</td>\n",
       "      <td>1.98</td>\n",
       "      <td>2</td>\n",
       "      <td>1449.05</td>\n",
       "    </tr>\n",
       "    <tr>\n",
       "      <th>...</th>\n",
       "      <td>...</td>\n",
       "      <td>...</td>\n",
       "      <td>...</td>\n",
       "      <td>...</td>\n",
       "      <td>...</td>\n",
       "      <td>...</td>\n",
       "      <td>...</td>\n",
       "      <td>...</td>\n",
       "      <td>...</td>\n",
       "      <td>...</td>\n",
       "      <td>...</td>\n",
       "    </tr>\n",
       "    <tr>\n",
       "      <th>11760</th>\n",
       "      <td>4</td>\n",
       "      <td>0</td>\n",
       "      <td>8.0</td>\n",
       "      <td>1000</td>\n",
       "      <td>0</td>\n",
       "      <td>13.3</td>\n",
       "      <td>15360800</td>\n",
       "      <td>10.3</td>\n",
       "      <td>3.36</td>\n",
       "      <td>3</td>\n",
       "      <td>950.07</td>\n",
       "    </tr>\n",
       "    <tr>\n",
       "      <th>11761</th>\n",
       "      <td>3</td>\n",
       "      <td>4</td>\n",
       "      <td>64.0</td>\n",
       "      <td>1000</td>\n",
       "      <td>0</td>\n",
       "      <td>17.3</td>\n",
       "      <td>3686400</td>\n",
       "      <td>11.5</td>\n",
       "      <td>1.93</td>\n",
       "      <td>2</td>\n",
       "      <td>2683.44</td>\n",
       "    </tr>\n",
       "    <tr>\n",
       "      <th>11762</th>\n",
       "      <td>1</td>\n",
       "      <td>3</td>\n",
       "      <td>16.0</td>\n",
       "      <td>1000</td>\n",
       "      <td>0</td>\n",
       "      <td>15.6</td>\n",
       "      <td>15360800</td>\n",
       "      <td>10.9</td>\n",
       "      <td>1.55</td>\n",
       "      <td>0</td>\n",
       "      <td>2704.23</td>\n",
       "    </tr>\n",
       "    <tr>\n",
       "      <th>11766</th>\n",
       "      <td>9</td>\n",
       "      <td>2</td>\n",
       "      <td>16.0</td>\n",
       "      <td>512</td>\n",
       "      <td>2</td>\n",
       "      <td>13.3</td>\n",
       "      <td>15360800</td>\n",
       "      <td>7.5</td>\n",
       "      <td>1.48</td>\n",
       "      <td>3</td>\n",
       "      <td>1067.13</td>\n",
       "    </tr>\n",
       "    <tr>\n",
       "      <th>11767</th>\n",
       "      <td>9</td>\n",
       "      <td>6</td>\n",
       "      <td>8.0</td>\n",
       "      <td>256</td>\n",
       "      <td>6</td>\n",
       "      <td>17.3</td>\n",
       "      <td>3686400</td>\n",
       "      <td>6.4</td>\n",
       "      <td>2.45</td>\n",
       "      <td>0</td>\n",
       "      <td>1579.55</td>\n",
       "    </tr>\n",
       "  </tbody>\n",
       "</table>\n",
       "<p>8869 rows × 11 columns</p>\n",
       "</div>"
      ],
      "text/plain": [
       "       Brand  Processor  RAM (GB)  Storage  GPU  Screen Size (inch)  \\\n",
       "0          1          0      64.0      512    3                17.3   \n",
       "1          8          2       4.0     1000    6                14.0   \n",
       "3          5          5       4.0      256    6                13.3   \n",
       "4          8          4       4.0      256    0                16.0   \n",
       "6          3          5       8.0     1000    4                15.6   \n",
       "...      ...        ...       ...      ...  ...                 ...   \n",
       "11760      4          0       8.0     1000    0                13.3   \n",
       "11761      3          4      64.0     1000    0                17.3   \n",
       "11762      1          3      16.0     1000    0                15.6   \n",
       "11766      9          2      16.0      512    2                13.3   \n",
       "11767      9          6       8.0      256    6                17.3   \n",
       "\n",
       "       Resolution  Battery Life (hours)  Weight (kg)  Operating System  \\\n",
       "0         3686400                   8.9         1.42                 0   \n",
       "1         1065948                   9.4         2.57                 1   \n",
       "3         1065948                  10.5         3.10                 2   \n",
       "4         8294400                   5.7         3.38                 1   \n",
       "6         3686400                   9.1         1.98                 2   \n",
       "...           ...                   ...          ...               ...   \n",
       "11760    15360800                  10.3         3.36                 3   \n",
       "11761     3686400                  11.5         1.93                 2   \n",
       "11762    15360800                  10.9         1.55                 0   \n",
       "11766    15360800                   7.5         1.48                 3   \n",
       "11767     3686400                   6.4         2.45                 0   \n",
       "\n",
       "       Price ($)  \n",
       "0        3997.07  \n",
       "1        1355.78  \n",
       "3         751.17  \n",
       "4        2059.83  \n",
       "6        1449.05  \n",
       "...          ...  \n",
       "11760     950.07  \n",
       "11761    2683.44  \n",
       "11762    2704.23  \n",
       "11766    1067.13  \n",
       "11767    1579.55  \n",
       "\n",
       "[8869 rows x 11 columns]"
      ]
     },
     "execution_count": 27,
     "metadata": {},
     "output_type": "execute_result"
    }
   ],
   "source": [
    "# TODO : یک کپی از دیتافریم اصلی بگیرید و ادامه کد هارا با دیتافریم جدید انجام دهید\n",
    "df_new = new_data\n",
    "df_new"
   ]
  },
  {
   "cell_type": "code",
   "execution_count": null,
   "metadata": {
    "id": "_WyLX0_lgUnP"
   },
   "outputs": [],
   "source": [
    "# TODO: اگی نیاز به کتابخانه خاصی دارید , آنها را ایمپورت کنید\n",
    "# انجام شده است"
   ]
  },
  {
   "cell_type": "markdown",
   "metadata": {
    "id": "kM-RB8kPhdu1"
   },
   "source": [
    "<br>\n",
    "<br>\n",
    "<div dir=\"rtl\">\n",
    "    <font size=4>\n",
    "        <li>پردازش Storage</li>\n",
    "    </font>\n",
    "    <font size=4>\n",
    "        <li>\n",
    "            ویژگی Storage دارای واحد های GB و TB است. بهتر است آنها را به یک واحد اندازه گیری تبدیل کنید.\n",
    "        </li>\n",
    "        <li>\n",
    "            یک ویژگی عددی جدید با نام <code>Storage_Capacity_GB</code> ایجاد کنید.\n",
    "        </li>\n",
    "        <li>\n",
    "            نوع هارد دیسک (<strong>SSD</strong> یا <strong>HDD</strong>) را هم جدا کرده و در ستون <code>Storage_Type</code> ذخیره کنید.\n",
    "        </li>\n",
    "    </font>\n",
    "</div>\n"
   ]
  },
  {
   "cell_type": "code",
   "execution_count": null,
   "metadata": {
    "id": "G_UV5NWBUc2I"
   },
   "outputs": [],
   "source": [
    "# TODO: متدی برای پیش پردازش  فضای ذخیره سازی طبق توضیحات ارائه شده بنویسید.\n",
    "# انجام شده است "
   ]
  },
  {
   "cell_type": "markdown",
   "metadata": {
    "id": "iiv9rS9wjPIF"
   },
   "source": [
    "<br>\n",
    "<br>\n",
    "<div dir=\"rtl\">\n",
    "    <font size=4>\n",
    "        <li>پردازش Resolution</li>\n",
    "    </font>\n",
    "    <font size=4>\n",
    "        <li>\n",
    "            یک ویژگی عددی جدید \"Resolution_Pixels\" ایجاد کنید\n",
    "        </li>\n",
    "        <li>\n",
    "            <font size=3 color=\"red\"> راهنمایی: </font>رزولوشن را به دو مقدار جداگانه تبدیل کنید و از آن برای استخراج یک ویژگی عددی که میزان کلی پیکسل‌ها را نشان می‌دهد، استفاده کنید.\n",
    "        </li>\n",
    "    </font>\n",
    "</div>\n",
    "<br>"
   ]
  },
  {
   "cell_type": "code",
   "execution_count": null,
   "metadata": {
    "id": "ez0jUsheUgUt"
   },
   "outputs": [],
   "source": [
    "# TODO: متدی برای هندل کردن رزولوشن تصویر بنویسید\n",
    "# انجام شده است"
   ]
  },
  {
   "cell_type": "markdown",
   "metadata": {
    "id": "UlTMsnE4uR8q"
   },
   "source": [
    "<br>\n",
    "<br>\n",
    "<div dir=\"rtl\">\n",
    "    <font size=4>\n",
    "        <li>پردازش GPU و Processor</li>\n",
    "    </font>\n",
    "    <font size=4>\n",
    "        <li>\n",
    "            بهترین روش برای پردازش این دو ویژگی پیدا کنید. از آنجایی که این دو ویژگی دسته ایی (Categorical) هستند باید بهترین روش برای پردازش و استخراج ویژگی از انها را پیدا کنید. در مراحل بعدی ما نیاز داریم که به این دو ویژگی را به ویژگی های عددی تبدیل کنیم و اکر تعداد ویژگی های استخراج شده از آنها زیاد باشد ممکن است باعث افزایش بیش از حد پیچیدگی در داده های آموزش و تست و در نهایت Overfit شدن مدل شود.\n",
    "        </li>\n",
    "        <li>\n",
    "            <font size=4 color=\"red\"> راهنمایی: </font>برند و مدل ها در مقادیر ها را به‌عنوان دو ویژگی جداگانه در نظر بگیرید.\n",
    "        </li>\n",
    "    </font>\n",
    "</div>\n",
    "<br>"
   ]
  },
  {
   "cell_type": "code",
   "execution_count": 169,
   "metadata": {
    "id": "LOnm4JcD-x0B"
   },
   "outputs": [],
   "source": [
    "# TODO متدی برای مدیریت ویژگی های GPU و Processor بنویسید.\n",
    "#----------------------------------------------------------------------------------------------------\n",
    "# انجام شده است"
   ]
  },
  {
   "cell_type": "markdown",
   "metadata": {
    "id": "zlV4q0yRY52F"
   },
   "source": [
    "<br>\n",
    "<br>\n",
    "<div dir=\"rtl\">\n",
    "    <font size=4>\n",
    "        <li>پردازش Price($)</li>\n",
    "    </font>\n",
    "    <font size=4>\n",
    "        <li>\n",
    "            این ویژگی را کامل بررسی کنید و توضیح دهید که به چه دلیل به چه پیش پردازش هایی نیاز دارد. از انجایی که این ویژگی هدف است , باید دقت زیادی داشته باشید.\n",
    "        </li>\n",
    "    </font>\n",
    "</div>\n",
    "<br>"
   ]
  },
  {
   "cell_type": "code",
   "execution_count": null,
   "metadata": {
    "id": "qbv096hnHzin"
   },
   "outputs": [],
   "source": [
    "# TODO: ویژگی هدف را بررسی و پیش پردازش های مورد نیاز را روی آن اعمال کنید.\n",
    "# داده های پرت قیمت قبلا حذف شده است"
   ]
  },
  {
   "cell_type": "markdown",
   "metadata": {
    "id": "-F7zn6WC-yL8"
   },
   "source": [
    "<br>\n",
    "<br>\n",
    "<div dir=\"rtl\">\n",
    "    <font size=4>\n",
    "        <li>Encoding ویژگی های دسته ایی (Categorical)</li>\n",
    "    </font>\n",
    "    <font size=4>\n",
    "        <li>\n",
    "            ویژگی‌های دسته‌ای را به مقادیر عددی تبدیل کنید. روش‌های مختلفی برای این کار وجود دارد، از جمله One-Hot Encoding, Ordinal Encoding, Target Encoding, Binary Encoding, Hashing Encoding و ... . انتخاب روش مناسب اهمیت زیادی دارد، زیرا برخی روش‌ها ممکن است تعداد ویژگی‌ها را به‌شدت افزایش داده و منجر به پیچیدگی مدل یا Overfitting شوند. بهترین روش را بر اساس تعداد دسته‌ها و تأثیر آن‌ها بر مدل انتخاب کنید.\n",
    "        </li>\n",
    "    </font>\n",
    "</div>\n",
    "<br>"
   ]
  },
  {
   "cell_type": "code",
   "execution_count": 28,
   "metadata": {
    "id": "5TCWBYAvwm-Z"
   },
   "outputs": [],
   "source": [
    "# TODO: اگی نیاز به کتابخانه خاصی دارید , آنها را ایمپورت کنید\n",
    "from sklearn.ensemble import RandomForestRegressor,VotingRegressor,GradientBoostingRegressor\n",
    "from sklearn.metrics import mean_squared_error\n",
    "from xgboost import XGBRegressor\n",
    "from sklearn.model_selection import train_test_split,GridSearchCV\n",
    "from sklearn.metrics import r2_score\n",
    "from sklearn.metrics import mean_squared_error,mean_absolute_percentage_error,mean_absolute_error\n",
    "from sklearn.model_selection import learning_curve\n",
    "from statsmodels.stats.outliers_influence import variance_inflation_factor\n",
    "from statsmodels.tools.tools import add_constant\n",
    "from sklearn.feature_selection import mutual_info_regression\n",
    "from sklearn.preprocessing import StandardScaler\n",
    "from sklearn.pipeline import Pipeline"
   ]
  },
  {
   "cell_type": "code",
   "execution_count": 171,
   "metadata": {
    "id": "stKrehmrkoZw"
   },
   "outputs": [],
   "source": [
    "# TODO : ویژگی های دسته ایی را هندل کنید\n",
    "# ویژگی های دسته ای قبلا انجام شده است"
   ]
  },
  {
   "cell_type": "code",
   "execution_count": null,
   "metadata": {
    "id": "YWM4xZlImHXk"
   },
   "outputs": [],
   "source": []
  },
  {
   "cell_type": "markdown",
   "metadata": {
    "id": "dM5EieV-1Hba"
   },
   "source": [
    "<div dir=\"rtl\">\n",
    "<font size=\"6\">\n",
    "    <li>\n",
    "    <strong> ساخت و آموزش مدل</strong>\n",
    "    </li>\n",
    "</font>"
   ]
  },
  {
   "cell_type": "markdown",
   "metadata": {
    "id": "RJezLZvh1WWP"
   },
   "source": [
    "<div dir=\"rtl\">\n",
    "    <font size=5> اهداف: </font>\n",
    "    <font size=4>\n",
    "        <li>\n",
    "        آموزش دو مدل RandomForest Regressor و XGBoostRegressor    \n",
    "        </li>\n",
    "        <li>\n",
    "        بررسی منحنی یادگیری هر دو مدل و بررسی عملکرد مدل ها با کمی جزئیات بیشتر\n",
    "        </li>\n",
    "        <li>\n",
    "        تحقیق, بررسی و انتخاب هایپرپارامتر ها به صورت دستی\n",
    "        </li>\n",
    "        <li>\n",
    "        ایجاد و ساخت Pipeline\n",
    "        </li>\n",
    "    </font>\n",
    "</div>\n",
    "<br>"
   ]
  },
  {
   "cell_type": "code",
   "execution_count": null,
   "metadata": {
    "id": "iJzKVfzC9OTn"
   },
   "outputs": [],
   "source": [
    "# TODO: در صورت نیاز کتابحانه XGBoost را نصب کنید.\n",
    "# نصب شده است"
   ]
  },
  {
   "cell_type": "code",
   "execution_count": 172,
   "metadata": {
    "id": "BTz0SIQ_0F7_"
   },
   "outputs": [],
   "source": [
    "# TODO: اگی نیاز به کتابخانه خاصی دارید , آنها را ایمپورت کنید\n",
    "# کتابخانه های مورد نیاز فراخوانی شده اند"
   ]
  },
  {
   "cell_type": "markdown",
   "metadata": {
    "id": "vFmg7iEiW3Jf"
   },
   "source": [
    "<br>\n",
    "<div dir=\"rtl\">\n",
    "    <font size=4>پیش از آموزش مدل ها به 3 تابع زیر نیاز داریم:</font>\n",
    "    <font size=4>\n",
    "        <li>\n",
    "        تابعی که منحنی یادگیری را رسم کند.   \n",
    "        </li>\n",
    "        <li>\n",
    "        تابعی که مقادیر mse, rmse, r2 و mae را بر اساس مدل آموزش داده شده و مجموعه داده ها محاسبه کند.\n",
    "        </li>\n",
    "        <li>\n",
    "        تابعی که نمودار پراکندگی بین مقادیر پیش بینی شده و مقادیر واقعی را برای هر مجموعه داده ایی نشان دهد\n",
    "        </li>\n",
    "    </font>\n",
    "</div>\n",
    "<br>\n",
    "<br>"
   ]
  },
  {
   "cell_type": "markdown",
   "metadata": {
    "id": "zcJEl4SdXkAM"
   },
   "source": [
    "<br>\n",
    "<br>\n",
    "<div dir=\"rtl\">\n",
    "    <font size=4>\n",
    "        <li>تابع زیر را که برای منحنی یادگیری است کامل کنید.</li>\n",
    "    </font>\n",
    "    <font size=4 color=\"red\"> راهنمایی: </font>\n",
    "    <font size=4>     صورتی که با نوشتن این تابع مشکل دارید به پاسخ تمرین قبلی و منابع مطالعه داده شده مراجعه کنید.</font>\n",
    "</div>"
   ]
  },
  {
   "cell_type": "code",
   "execution_count": 29,
   "metadata": {
    "id": "OfyQ9bTQ1ZTC"
   },
   "outputs": [],
   "source": [
    "# TODO: متد منحنی یادگیری را بنویسید\n",
    "def plot_learning_curve(model, X, y, model_name):\n",
    "    train_sizes, train_scores, test_scores = learning_curve(model, X, y, n_jobs=-1, \n",
    "                                                            train_sizes=np.linspace(0.1, 0.9, 5),\n",
    "                                                            cv=5) \n",
    "    train_scores_means = np.mean(train_scores, axis=1)\n",
    "    test_scores_means = np.mean(test_scores, axis=1)\n",
    "    plt.plot(train_sizes, train_scores_means, label='Train Score')\n",
    "    plt.plot(train_sizes, test_scores_means, label='Test Score')\n",
    "    plt.title(model_name)\n",
    "    plt.xlabel('Training Size')\n",
    "    plt.ylabel('Score')\n",
    "    plt.legend()\n",
    "    plt.grid()\n",
    "    plt.show()\n"
   ]
  },
  {
   "cell_type": "markdown",
   "metadata": {
    "id": "zZRK7HopX24y"
   },
   "source": [
    "<br>\n",
    "<br>\n",
    "<div dir=\"rtl\">\n",
    "    <font size=4>\n",
    "        <li>\n",
    "        تابع زیر که برای محاسبه مقادیر mse, rmse و ...است را کامل کنید.\n",
    "        </li>\n",
    "            این تابع برای محاسبه و نمایش معیارهای ارزیابی عملکرد مدل (MSE، RMSE، MAE و R²) با استفاده از مقادیر واقعی و پیش‌بینی شده طراحی شده است. خروجی‌های محاسبه شده را نمایش داده و همچنین آنها را برای استفاده‌های بعدی برمی‌گرداند. یعنی این تابع با دریافت مدل (Pipeline) و X, y و نوع مجموعه داده ایی (dataset_name) معیار های ارزیابی ذکر شده را محاسبه و بر می گرداند.\n",
    "    </font>\n",
    "</div>\n"
   ]
  },
  {
   "cell_type": "markdown",
   "metadata": {
    "id": "jWK5-0ZRsOcY"
   },
   "source": [
    "<div dir=\"rtl\">\n",
    "    <font size=\"4\">\n",
    "        <strong>توضیحات پارامترها برای تابع <code>evaluate_model</code>:</strong>\n",
    "    </font>\n",
    "    <br><br>\n",
    "    <font size=\"4\">\n",
    "        <strong>pipeline:</strong> مدل یا پایپلاینی که می‌خواهیم ارزیابی کنیم و باید متد <code>predict</code> داشته باشد.\n",
    "    </font>\n",
    "    <br>\n",
    "    <font size=\"4\">\n",
    "        <strong>X:</strong> داده‌های ویژگی یا متغیرهای مستقل که به مدل ارسال می‌شوند تا پیش‌بینی انجام شود.\n",
    "    </font>\n",
    "    <br>\n",
    "    <font size=\"4\">\n",
    "        <strong>y:</strong> مقادیر واقعی یا متغیر هدف که برای محاسبه خطای پیش‌بینی با خروجی مدل مقایسه می‌شوند.\n",
    "    </font>\n",
    "    <br>\n",
    "    <font size=\"4\">\n",
    "        <strong>dataset_name:</strong> نام مجموعه داده (مثل \"train\"، \"validation\" یا \"test\") که در خروجی نمایش داده می‌شود تا مشخص شود معیارهای ارزیابی مربوط به کدام بخش داده است. مثل استفاده از این تابع:\n",
    "    </font>\n",
    "</div>\n",
    "\n",
    "```python\n",
    "evaluate_model(pipeline, X_train, y_train, \"Train\")\n",
    "evaluate_model(pipeline, X_test, y_test, \"Test\")\n",
    "```\n",
    "\n",
    "<div dir=\"rtl\">\n",
    "    <font size=\"4\">\n",
    "        و خروجی نمونه از این تابع:\n",
    "    </font>\n",
    "</div>\n",
    "\n",
    "```python\n",
    "Model Evaluation On Sets: Train:\n",
    "Mean Squared Error (MSE): 0.226\n",
    "Root Mean Squared Error (RMSE): 0.1149\n",
    "Mean Absolute Error (MAE): 0.1381\n",
    "R-squared (R²): 0.9999\n",
    "```\n",
    "\n",
    "\n",
    "<br>\n",
    "<br>"
   ]
  },
  {
   "cell_type": "code",
   "execution_count": 39,
   "metadata": {
    "id": "SvPy3L-0NIIK"
   },
   "outputs": [],
   "source": [
    "# TODO: تابع برای محاسبه و نمایش معیارهای ارزیابی\n",
    "def evaluate_model(pipeline, X_train, X_val,y_train,y_val):\n",
    "    pipeline.fit(X_train, y_train)\n",
    "    y_pred = pipeline.predict(X_val)\n",
    "    #---------------------------------------------\n",
    "    mse = mean_squared_error(y_val, y_pred)\n",
    "    r2 = r2_score(y_val, y_pred)\n",
    "    mae = mean_absolute_error(y_val, y_pred)\n",
    "    #---------------------------------------------\n",
    "    print(f\"MSE : {mse}\\nR2 : {r2}\\nMAE : {mae}\")"
   ]
  },
  {
   "cell_type": "markdown",
   "metadata": {
    "id": "wZ0l8njbVEs0"
   },
   "source": [
    "<br>\n",
    "<br>\n",
    "<div dir=\"rtl\">\n",
    "    <font size=4>\n",
    "        <li>\n",
    "            تابع زیر را برای نمایش نمودار پراکندگی (Scatter) بین مقادیر واقعی (Actual) و پیش‌بینی‌شده (Predicted) کامل کنید.\n",
    "        </li>\n",
    "        <font size=4 color=\"red\">راهنمایی:</font>  \n",
    "        <br>\n",
    "        - ابتدا سه نمودار پراکندگی برای هر مجموعه داده (Train، Validation و Test) رسم کنید.\n",
    "        <br>\n",
    "        - در هر نمودار، مقادیر واقعی را در محور X و مقادیر پیش‌بینی‌شده را در محور Y قرار دهید.\n",
    "        <br>\n",
    "        - یک خط قرمز عمودی (خطی که پیش‌بینی‌های درست را نشان دهد) رسم کنید که از پایین تا بالا کشیده شده و مقادیر واقعی را با پیش‌بینی‌ها مقایسه کند.\n",
    "        <br>\n",
    "        - پس از رسم نمودارهای پراکندگی، یک نمودار دیگر رسم کنید که توزیع خطاها (اختلاف بین مقادیر واقعی و پیش‌بینی‌شده) برای مجموعه داده‌ی Test را نشان دهد.\n",
    "        <br>\n",
    "        - از رنگ‌ها و عنوان‌های مناسب برای هر نمودار استفاده کنید تا نتایج به وضوح قابل درک باشند.\n",
    "    </font>\n",
    "</div>\n"
   ]
  },
  {
   "cell_type": "code",
   "execution_count": 31,
   "metadata": {
    "id": "PYb0CM5HT0V2"
   },
   "outputs": [],
   "source": [
    "# TODO: نمایش نمودار پراکندگی بین مقادیر واقعی و پیش‌بینی شده\n",
    "def plot_prediction_scatter(best_model,X_train_scaler,y_train,y_test,predictions):\n",
    "    plt.figure(figsize=(7, 5))\n",
    "    plt.scatter(y_train, best_model.predict(X_train_scaler),color=\"blue\")\n",
    "    plt.scatter(y_test, predictions, color=\"green\", label='Predicted Data')\n",
    "    plt.plot([min(y_test), max(y_test)], [min(y_test), max(y_test)], '-', color=\"red\", label=\"Regression Line\")\n",
    "    plt.title('Actual Prices vs Predicted Prices')\n",
    "    plt.xlabel('Actual Prices')\n",
    "    plt.ylabel('Predicted Prices')\n",
    "    plt.show()"
   ]
  },
  {
   "cell_type": "markdown",
   "metadata": {
    "id": "1vL2W4NZ-r7z"
   },
   "source": [
    "<br>\n",
    "<br>\n",
    "<div dir=\"rtl\">\n",
    "    <h1>آموزش مدل RandomForest:<h1>\n",
    "        <font size=4>\n",
    "            <li>\n",
    "                    مدل RandomForest را آموزش دهید و به نکات زیر توجه داشته باشید:\n",
    "                        <br>\n",
    "                        1. از داده های Test, Train و Validation برای آموزش و\n",
    "                        ارزیابی مدل استفاده کنید.  \n",
    "                        <br>\n",
    "                        2. منحنی یادگیری مدل را بررسی و ارزیابی کنید.\n",
    "                        <br>\n",
    "                        3. مدل را از نظر Overfit/Underfit بررسی کنید.\n",
    "                        <br>\n",
    "                        4. سعی کنید ماهیت داده ها را بشناسید و بر اساس آن هایپر پارامتر ها را انتخاب کنید. در صورتی که به مشکلی مواجه شدید از روش های انتخاب و بهینه سازی ویژگی استفاده کنید.\n",
    "            </li>\n",
    "        </font>\n",
    "\n",
    "</div>\n",
    "<br>"
   ]
  },
  {
   "cell_type": "code",
   "execution_count": 32,
   "metadata": {},
   "outputs": [
    {
     "data": {
      "text/html": [
       "<div>\n",
       "<style scoped>\n",
       "    .dataframe tbody tr th:only-of-type {\n",
       "        vertical-align: middle;\n",
       "    }\n",
       "\n",
       "    .dataframe tbody tr th {\n",
       "        vertical-align: top;\n",
       "    }\n",
       "\n",
       "    .dataframe thead th {\n",
       "        text-align: right;\n",
       "    }\n",
       "</style>\n",
       "<table border=\"1\" class=\"dataframe\">\n",
       "  <thead>\n",
       "    <tr style=\"text-align: right;\">\n",
       "      <th></th>\n",
       "      <th>Brand</th>\n",
       "      <th>Processor</th>\n",
       "      <th>RAM (GB)</th>\n",
       "      <th>Storage</th>\n",
       "      <th>GPU</th>\n",
       "      <th>Screen Size (inch)</th>\n",
       "      <th>Resolution</th>\n",
       "      <th>Battery Life (hours)</th>\n",
       "      <th>Weight (kg)</th>\n",
       "      <th>Operating System</th>\n",
       "      <th>Price ($)</th>\n",
       "    </tr>\n",
       "  </thead>\n",
       "  <tbody>\n",
       "    <tr>\n",
       "      <th>0</th>\n",
       "      <td>1</td>\n",
       "      <td>0</td>\n",
       "      <td>64.0</td>\n",
       "      <td>512</td>\n",
       "      <td>3</td>\n",
       "      <td>17.3</td>\n",
       "      <td>3686400</td>\n",
       "      <td>8.9</td>\n",
       "      <td>1.42</td>\n",
       "      <td>0</td>\n",
       "      <td>3997.07</td>\n",
       "    </tr>\n",
       "    <tr>\n",
       "      <th>1</th>\n",
       "      <td>8</td>\n",
       "      <td>2</td>\n",
       "      <td>4.0</td>\n",
       "      <td>1000</td>\n",
       "      <td>6</td>\n",
       "      <td>14.0</td>\n",
       "      <td>1065948</td>\n",
       "      <td>9.4</td>\n",
       "      <td>2.57</td>\n",
       "      <td>1</td>\n",
       "      <td>1355.78</td>\n",
       "    </tr>\n",
       "    <tr>\n",
       "      <th>3</th>\n",
       "      <td>5</td>\n",
       "      <td>5</td>\n",
       "      <td>4.0</td>\n",
       "      <td>256</td>\n",
       "      <td>6</td>\n",
       "      <td>13.3</td>\n",
       "      <td>1065948</td>\n",
       "      <td>10.5</td>\n",
       "      <td>3.10</td>\n",
       "      <td>2</td>\n",
       "      <td>751.17</td>\n",
       "    </tr>\n",
       "    <tr>\n",
       "      <th>4</th>\n",
       "      <td>8</td>\n",
       "      <td>4</td>\n",
       "      <td>4.0</td>\n",
       "      <td>256</td>\n",
       "      <td>0</td>\n",
       "      <td>16.0</td>\n",
       "      <td>8294400</td>\n",
       "      <td>5.7</td>\n",
       "      <td>3.38</td>\n",
       "      <td>1</td>\n",
       "      <td>2059.83</td>\n",
       "    </tr>\n",
       "    <tr>\n",
       "      <th>6</th>\n",
       "      <td>3</td>\n",
       "      <td>5</td>\n",
       "      <td>8.0</td>\n",
       "      <td>1000</td>\n",
       "      <td>4</td>\n",
       "      <td>15.6</td>\n",
       "      <td>3686400</td>\n",
       "      <td>9.1</td>\n",
       "      <td>1.98</td>\n",
       "      <td>2</td>\n",
       "      <td>1449.05</td>\n",
       "    </tr>\n",
       "    <tr>\n",
       "      <th>...</th>\n",
       "      <td>...</td>\n",
       "      <td>...</td>\n",
       "      <td>...</td>\n",
       "      <td>...</td>\n",
       "      <td>...</td>\n",
       "      <td>...</td>\n",
       "      <td>...</td>\n",
       "      <td>...</td>\n",
       "      <td>...</td>\n",
       "      <td>...</td>\n",
       "      <td>...</td>\n",
       "    </tr>\n",
       "    <tr>\n",
       "      <th>11760</th>\n",
       "      <td>4</td>\n",
       "      <td>0</td>\n",
       "      <td>8.0</td>\n",
       "      <td>1000</td>\n",
       "      <td>0</td>\n",
       "      <td>13.3</td>\n",
       "      <td>15360800</td>\n",
       "      <td>10.3</td>\n",
       "      <td>3.36</td>\n",
       "      <td>3</td>\n",
       "      <td>950.07</td>\n",
       "    </tr>\n",
       "    <tr>\n",
       "      <th>11761</th>\n",
       "      <td>3</td>\n",
       "      <td>4</td>\n",
       "      <td>64.0</td>\n",
       "      <td>1000</td>\n",
       "      <td>0</td>\n",
       "      <td>17.3</td>\n",
       "      <td>3686400</td>\n",
       "      <td>11.5</td>\n",
       "      <td>1.93</td>\n",
       "      <td>2</td>\n",
       "      <td>2683.44</td>\n",
       "    </tr>\n",
       "    <tr>\n",
       "      <th>11762</th>\n",
       "      <td>1</td>\n",
       "      <td>3</td>\n",
       "      <td>16.0</td>\n",
       "      <td>1000</td>\n",
       "      <td>0</td>\n",
       "      <td>15.6</td>\n",
       "      <td>15360800</td>\n",
       "      <td>10.9</td>\n",
       "      <td>1.55</td>\n",
       "      <td>0</td>\n",
       "      <td>2704.23</td>\n",
       "    </tr>\n",
       "    <tr>\n",
       "      <th>11766</th>\n",
       "      <td>9</td>\n",
       "      <td>2</td>\n",
       "      <td>16.0</td>\n",
       "      <td>512</td>\n",
       "      <td>2</td>\n",
       "      <td>13.3</td>\n",
       "      <td>15360800</td>\n",
       "      <td>7.5</td>\n",
       "      <td>1.48</td>\n",
       "      <td>3</td>\n",
       "      <td>1067.13</td>\n",
       "    </tr>\n",
       "    <tr>\n",
       "      <th>11767</th>\n",
       "      <td>9</td>\n",
       "      <td>6</td>\n",
       "      <td>8.0</td>\n",
       "      <td>256</td>\n",
       "      <td>6</td>\n",
       "      <td>17.3</td>\n",
       "      <td>3686400</td>\n",
       "      <td>6.4</td>\n",
       "      <td>2.45</td>\n",
       "      <td>0</td>\n",
       "      <td>1579.55</td>\n",
       "    </tr>\n",
       "  </tbody>\n",
       "</table>\n",
       "<p>8869 rows × 11 columns</p>\n",
       "</div>"
      ],
      "text/plain": [
       "       Brand  Processor  RAM (GB)  Storage  GPU  Screen Size (inch)  \\\n",
       "0          1          0      64.0      512    3                17.3   \n",
       "1          8          2       4.0     1000    6                14.0   \n",
       "3          5          5       4.0      256    6                13.3   \n",
       "4          8          4       4.0      256    0                16.0   \n",
       "6          3          5       8.0     1000    4                15.6   \n",
       "...      ...        ...       ...      ...  ...                 ...   \n",
       "11760      4          0       8.0     1000    0                13.3   \n",
       "11761      3          4      64.0     1000    0                17.3   \n",
       "11762      1          3      16.0     1000    0                15.6   \n",
       "11766      9          2      16.0      512    2                13.3   \n",
       "11767      9          6       8.0      256    6                17.3   \n",
       "\n",
       "       Resolution  Battery Life (hours)  Weight (kg)  Operating System  \\\n",
       "0         3686400                   8.9         1.42                 0   \n",
       "1         1065948                   9.4         2.57                 1   \n",
       "3         1065948                  10.5         3.10                 2   \n",
       "4         8294400                   5.7         3.38                 1   \n",
       "6         3686400                   9.1         1.98                 2   \n",
       "...           ...                   ...          ...               ...   \n",
       "11760    15360800                  10.3         3.36                 3   \n",
       "11761     3686400                  11.5         1.93                 2   \n",
       "11762    15360800                  10.9         1.55                 0   \n",
       "11766    15360800                   7.5         1.48                 3   \n",
       "11767     3686400                   6.4         2.45                 0   \n",
       "\n",
       "       Price ($)  \n",
       "0        3997.07  \n",
       "1        1355.78  \n",
       "3         751.17  \n",
       "4        2059.83  \n",
       "6        1449.05  \n",
       "...          ...  \n",
       "11760     950.07  \n",
       "11761    2683.44  \n",
       "11762    2704.23  \n",
       "11766    1067.13  \n",
       "11767    1579.55  \n",
       "\n",
       "[8869 rows x 11 columns]"
      ]
     },
     "execution_count": 32,
     "metadata": {},
     "output_type": "execute_result"
    }
   ],
   "source": [
    "new_data"
   ]
  },
  {
   "cell_type": "code",
   "execution_count": 33,
   "metadata": {},
   "outputs": [
    {
     "name": "stdout",
     "output_type": "stream",
     "text": [
      "                   ویژگی         VIF\n",
      "0                  const  154.830278\n",
      "1                  Brand    1.002350\n",
      "2              Processor    1.077264\n",
      "3               RAM (GB)    1.577757\n",
      "4                Storage    1.006140\n",
      "5                    GPU    1.002743\n",
      "6     Screen Size (inch)    1.008457\n",
      "7             Resolution    1.013590\n",
      "8   Battery Life (hours)    1.000652\n",
      "9            Weight (kg)    1.000712\n",
      "10      Operating System    1.000960\n",
      "11             Price ($)    1.668794\n"
     ]
    }
   ],
   "source": [
    "def calculate_vif(df):\n",
    "    vif = pd.DataFrame()\n",
    "    vif[\"ویژگی\"] = df.columns\n",
    "    vif[\"VIF\"] = [variance_inflation_factor(df.values, i) for i in range(df.shape[1])]\n",
    "    return vif\n",
    "df_numeric = new_data.select_dtypes(include=np.number).dropna()\n",
    "X = add_constant(df_numeric)\n",
    "vif_result = calculate_vif(X)\n",
    "print(vif_result)"
   ]
  },
  {
   "cell_type": "code",
   "execution_count": 34,
   "metadata": {
    "id": "wCKEOtNTIF7g"
   },
   "outputs": [
    {
     "name": "stdout",
     "output_type": "stream",
     "text": [
      "Selected features based on Mutual Information: ['RAM (GB)', 'Resolution', 'Processor', 'GPU', 'Brand', 'Screen Size (inch)', 'Storage']\n"
     ]
    }
   ],
   "source": [
    "# TODO: آماده‌سازی داده‌ها با جدا کردن متغییر های وابسته و مستقل\n",
    "def select_features_mutual_info(df, target, n_features):\n",
    "    # جدا کردن ویژگی‌ها و هدف\n",
    "    X = df.drop(columns=[target]).dropna()\n",
    "    y = df[target].dropna()\n",
    "    \n",
    "    # اطمینان از وجود ایندکس های مشترک\n",
    "    common_index = X.index.intersection(y.index)\n",
    "    X = X.loc[common_index]\n",
    "    y = y.loc[common_index]\n",
    "    \n",
    "    # تبدیل به نوع عددی\n",
    "    X = X.apply(pd.to_numeric, errors='coerce')  # تبدیل به عددی و مقادیر نامعتبر را به NaN تبدیل می‌کند.\n",
    "\n",
    "    # محاسبه‌ی اطلاعات متقابل\n",
    "    mutual_info = mutual_info_regression(X, y)\n",
    "    mutual_info = pd.Series(mutual_info, index=X.columns)\n",
    "    mutual_info.sort_values(ascending=False, inplace=True)\n",
    "\n",
    "    selected_features = mutual_info[:n_features].index.tolist()\n",
    "    return selected_features\n",
    "\n",
    "target_variable = 'Price ($)'\n",
    "n_selected_features = 7  # تغییر به تعداد دلخواه ویژگی\n",
    "selected_features = select_features_mutual_info(df_numeric, target_variable, n_selected_features)\n",
    "print(f\"Selected features based on Mutual Information: {selected_features}\")"
   ]
  },
  {
   "cell_type": "code",
   "execution_count": 37,
   "metadata": {},
   "outputs": [],
   "source": [
    "# TODO تقسیم داده‌ها به سه بخش: train، validation و test\n",
    "X = new_data[selected_features]\n",
    "y = new_data['Price ($)']\n",
    "X_train, X_test, y_train, y_test = train_test_split(X, y, test_size=0.2, random_state=42)\n",
    "X_train, X_val, y_train, y_val = train_test_split(X_train, y_train, test_size=0.25, random_state=42)  # 0.25 x 0.8 = 0.2"
   ]
  },
  {
   "cell_type": "code",
   "execution_count": 38,
   "metadata": {
    "id": "ndnxkx0q3D8-"
   },
   "outputs": [],
   "source": [
    "# TODO: تغریف و آموزش پایپ لاین\n",
    "pipeline = Pipeline([\n",
    "    ('scaler', StandardScaler()),\n",
    "    ('regressor', RandomForestRegressor())])\n",
    "#---------------------------------------------\n",
    "pipeline.fit(X_train, y_train)\n",
    "y_pred = pipeline.predict(X_val)\n",
    "#---------------------------------------------\n",
    "mse = mean_squared_error(y_val, y_pred)\n",
    "r2 = r2_score(y_val, y_pred)\n",
    "mae = mean_absolute_error(y_val, y_pred)\n",
    "#---------------------------------------------"
   ]
  },
  {
   "cell_type": "markdown",
   "metadata": {
    "id": "vgDBExnb3UP_"
   },
   "source": [
    "<br>\n",
    "<br>\n",
    "<div dir=\"rtl\">\n",
    "    <font size=4>\n",
    "        <li>\n",
    "            از تابع evaluate_model مدل استفاده کنید و عملکرد مدل بر روی داده های Train, Test و Validation را ارزیابی کنید\n",
    "        </li>\n",
    "    </font>\n",
    "</div>"
   ]
  },
  {
   "cell_type": "code",
   "execution_count": 40,
   "metadata": {
    "id": "ZZepQdIv3LWO"
   },
   "outputs": [
    {
     "name": "stdout",
     "output_type": "stream",
     "text": [
      "MSE : 120149.03470959832\n",
      "R2 : 0.8688074714791139\n",
      "MAE : 254.98632673847104\n"
     ]
    }
   ],
   "source": [
    "# TODO: ارزیابی مدل روی مجموعه‌های مختلف با استفاده از متد evaluate_model\n",
    "evaluate_model(pipeline=pipeline,X_train=X_train,X_val=X_val,y_train=y_train,y_val=y_val)"
   ]
  },
  {
   "cell_type": "code",
   "execution_count": 41,
   "metadata": {
    "id": "5rMoCFv-N8jg"
   },
   "outputs": [
    {
     "data": {
      "image/png": "[encoded data removed]",
      "text/plain": [
       "<Figure size 640x480 with 1 Axes>"
      ]
     },
     "metadata": {},
     "output_type": "display_data"
    }
   ],
   "source": [
    "# TODO: منحنی یادگیری این مدل را بررسی کنید\n",
    "plot_learning_curve(RandomForestRegressor(),X,y,\"Random Forest Regression \")"
   ]
  },
  {
   "cell_type": "code",
   "execution_count": 42,
   "metadata": {
    "id": "pmZCIiglOFYJ"
   },
   "outputs": [
    {
     "data": {
      "image/png": "[encoded data removed]",
      "text/plain": [
       "<Figure size 700x500 with 1 Axes>"
      ]
     },
     "metadata": {},
     "output_type": "display_data"
    }
   ],
   "source": [
    "# TODO:  نمودار پراکندگی بین مقادیر پیش بینی شده و مقادیر واقعی\n",
    "plt.figure(figsize=(7, 5))\n",
    "plt.scatter(y_train, pipeline.predict(X_train),color=\"blue\")\n",
    "plt.scatter(y_val, y_pred, color=\"green\", label='Predicted Data')\n",
    "plt.plot([min(y_val), max(y_val)], [min(y_val), max(y_val)], '-', color=\"red\", label=\"Regression Line\")\n",
    "plt.title('Actual Prices vs Predicted Prices')\n",
    "plt.xlabel('Actual Prices')\n",
    "plt.ylabel('Predicted Prices')\n",
    "plt.show()\n"
   ]
  },
  {
   "cell_type": "markdown",
   "metadata": {
    "id": "FDiZVxUg4ti6"
   },
   "source": [
    "<br>\n",
    "<br>\n",
    "<div dir=\"rtl\">\n",
    "    <font size=4>\n",
    "        <li>\n",
    "        نتایج ارزیابی مدل را با استفاده از مقادیر MSE، RMSE، MAE و R² برای\n",
    "         داده‌های آموزشی، اعتبارسنجی و آزمایشی در قالب یک جدول نمایش دهید.خروجی نمونه به شکل زیر است:\n",
    "        </li>\n",
    "    </font>\n",
    "</div>"
   ]
  },
  {
   "cell_type": "markdown",
   "metadata": {
    "id": "fD04nxp05dLz"
   },
   "source": [
    "<a href=\"https://imgbb.com/\"><img src=\"https://i.ibb.co/yFdgRMxs/Screenshot-2025-03-12-183530.png\" alt=\"Screenshot-2025-03-12-183530\" border=\"0\"></a>"
   ]
  },
  {
   "cell_type": "code",
   "execution_count": 48,
   "metadata": {
    "id": "LSQbvdvbOFVP"
   },
   "outputs": [
    {
     "data": {
      "text/html": [
       "<div>\n",
       "<style scoped>\n",
       "    .dataframe tbody tr th:only-of-type {\n",
       "        vertical-align: middle;\n",
       "    }\n",
       "\n",
       "    .dataframe tbody tr th {\n",
       "        vertical-align: top;\n",
       "    }\n",
       "\n",
       "    .dataframe thead th {\n",
       "        text-align: right;\n",
       "    }\n",
       "</style>\n",
       "<table border=\"1\" class=\"dataframe\">\n",
       "  <thead>\n",
       "    <tr style=\"text-align: right;\">\n",
       "      <th></th>\n",
       "      <th>Model</th>\n",
       "      <th>RMSE</th>\n",
       "      <th>R2 Score</th>\n",
       "      <th>MAE</th>\n",
       "    </tr>\n",
       "  </thead>\n",
       "  <tbody>\n",
       "    <tr>\n",
       "      <th>0</th>\n",
       "      <td>Validation</td>\n",
       "      <td>123688.088734</td>\n",
       "      <td>0.864943</td>\n",
       "      <td>256.402725</td>\n",
       "    </tr>\n",
       "  </tbody>\n",
       "</table>\n",
       "</div>"
      ],
      "text/plain": [
       "        Model           RMSE  R2 Score         MAE\n",
       "0  Validation  123688.088734  0.864943  256.402725"
      ]
     },
     "metadata": {},
     "output_type": "display_data"
    }
   ],
   "source": [
    "metrics_df_lr = pd.DataFrame({\n",
    "    'Model': ['Validation'],\n",
    "    'RMSE': [mse],\n",
    "    'R2 Score': [r2],\n",
    "    'MAE' : [mae]\n",
    "})\n",
    "\n",
    "# Print the DataFrame\n",
    "display(metrics_df_lr)\n"
   ]
  },
  {
   "cell_type": "markdown",
   "metadata": {
    "id": "AdDXUahZubnv"
   },
   "source": [
    "## ارزیابی:\n",
    "*ارزیابی خودتان از عملکرد مدل جنگل تصادفی و خروجی حاصل از آن را بنویسید*\n",
    "1. مدل با استفاده از این روش دچار overfitting شده است\n"
   ]
  },
  {
   "cell_type": "markdown",
   "metadata": {
    "id": "W4jglFGp_qFG"
   },
   "source": [
    "<br>\n",
    "<br>\n",
    "<div dir=\"rtl\">\n",
    "    <h1>آموزش مدل XGBoost:<h1>\n",
    "        <font size=4>\n",
    "            <li>\n",
    "                    مدل XGBoost را آموزش دهید و به نکات زیر توجه داشته باشید:\n",
    "                        <br>\n",
    "                        1. از داده های Test, Train و Validation برای آموزش و\n",
    "                        ارزیابی مدل استفاده کنید.  \n",
    "                        <br>\n",
    "                        2. منحنی یادگیری مدل را بررسی و ارزیابی کنید.\n",
    "                        <br>\n",
    "                        3. مدل را از نظر Overfit/Underfit بررسی کنید.\n",
    "                        <br>\n",
    "                        4. سعی کنید ماهیت داده ها را بشناسید و بر اساس آن هایپر پارامتر ها را انتخاب کنید. در صورتی که به مشکلی مواجه شدید از روش های انتخاب و بهینه سازی ویژگی استفاده کنید.\n",
    "            </li>\n",
    "        </font>\n",
    "\n",
    "</div>\n",
    "<br>"
   ]
  },
  {
   "cell_type": "code",
   "execution_count": null,
   "metadata": {
    "id": "UyZpXER96ApI"
   },
   "outputs": [],
   "source": [
    "# TODO: آماده‌سازی داده‌ها با جدا کردن متغییر های وابسته و مستقل\n",
    "# آماده سازی صورت گرفته است"
   ]
  },
  {
   "cell_type": "code",
   "execution_count": null,
   "metadata": {
    "id": "s2cFz4eq6ApJ"
   },
   "outputs": [],
   "source": [
    "# TODO تقسیم داده‌ها به سه بخش: train، validation و test\n",
    "# تقسیم در مدل قبلی انجام شده و اماده استفاده میباشد"
   ]
  },
  {
   "cell_type": "code",
   "execution_count": 49,
   "metadata": {
    "id": "fdqQF4oH6ApJ"
   },
   "outputs": [],
   "source": [
    "# TODO: تغریف و آموزش پایپ لاین\n",
    "pipeline = Pipeline([\n",
    "    ('scaler', StandardScaler()),\n",
    "    ('XGBoost', XGBRegressor())])\n",
    "#---------------------------------------------\n",
    "pipeline.fit(X_train, y_train)\n",
    "y_pred = pipeline.predict(X_val)\n",
    "#---------------------------------------------\n",
    "mse = mean_squared_error(y_val, y_pred)\n",
    "r2 = r2_score(y_val, y_pred)\n",
    "mae = mean_absolute_error(y_val, y_pred)\n",
    "#---------------------------------------------"
   ]
  },
  {
   "cell_type": "markdown",
   "metadata": {
    "id": "bMB5BHP36ApJ"
   },
   "source": [
    "<br>\n",
    "<br>\n",
    "<div dir=\"rtl\">\n",
    "    <font size=4>\n",
    "        <li>\n",
    "            از تابع evaluate_model مدل استفاده کنید و عملکرد مدل بر روی داده های Train, Test و Validation را ارزیابی کنید\n",
    "        </li>\n",
    "    </font>\n",
    "</div>"
   ]
  },
  {
   "cell_type": "code",
   "execution_count": 50,
   "metadata": {
    "id": "DBdeWqVU6ApJ"
   },
   "outputs": [
    {
     "name": "stdout",
     "output_type": "stream",
     "text": [
      "MSE : 37973.15170711203\n",
      "R2 : 0.9585365475436046\n",
      "MAE : 148.64719753811565\n"
     ]
    }
   ],
   "source": [
    "# TODO: ارزیابی مدل روی مجموعه‌های مختلف با استفاده از متد evaluate_model\n",
    "evaluate_model(pipeline=pipeline,X_train=X_train,X_val=X_val,y_train=y_train,y_val=y_val)"
   ]
  },
  {
   "cell_type": "code",
   "execution_count": 51,
   "metadata": {
    "id": "hICO1P6s6ApJ"
   },
   "outputs": [
    {
     "data": {
      "image/png": "[encoded data removed]",
      "text/plain": [
       "<Figure size 640x480 with 1 Axes>"
      ]
     },
     "metadata": {},
     "output_type": "display_data"
    }
   ],
   "source": [
    "# TODO: منحنی یادگیری این مدل را بررسی کنید\n",
    "plot_learning_curve(XGBRegressor(),X,y,\"Random Forest Regression \")"
   ]
  },
  {
   "cell_type": "code",
   "execution_count": 52,
   "metadata": {
    "id": "EV9nYUXj6ApJ"
   },
   "outputs": [
    {
     "data": {
      "image/png": "[encoded data removed]",
      "text/plain": [
       "<Figure size 700x500 with 1 Axes>"
      ]
     },
     "metadata": {},
     "output_type": "display_data"
    }
   ],
   "source": [
    "# TODO:  نمودار پراکندگی بین مقادیر پیش بینی شده و مقادیر واقعی\n",
    "plt.figure(figsize=(7, 5))\n",
    "plt.scatter(y_train, pipeline.predict(X_train),color=\"blue\")\n",
    "plt.scatter(y_val, y_pred, color=\"green\", label='Predicted Data')\n",
    "plt.plot([min(y_val), max(y_val)], [min(y_val), max(y_val)], '-', color=\"red\", label=\"Regression Line\")\n",
    "plt.title('Actual Prices vs Predicted Prices')\n",
    "plt.xlabel('Actual Prices')\n",
    "plt.ylabel('Predicted Prices')\n",
    "plt.show()\n"
   ]
  },
  {
   "cell_type": "markdown",
   "metadata": {
    "id": "HZVEXysp6ApJ"
   },
   "source": [
    "<br>\n",
    "<br>\n",
    "<div dir=\"rtl\">\n",
    "    <font size=4>\n",
    "        <li>\n",
    "        نتایج ارزیابی مدل را با استفاده از مقادیر MSE، RMSE، MAE و R² برای\n",
    "         داده‌های آموزشی، اعتبارسنجی و آزمایشی در قالب یک جدول نمایش دهید.خروجی نمونه به شکل زیر است:\n",
    "        </li>\n",
    "    </font>\n",
    "</div>"
   ]
  },
  {
   "cell_type": "markdown",
   "metadata": {
    "id": "-sL0Azz96ApK"
   },
   "source": [
    "<a href=\"https://imgbb.com/\"><img src=\"https://i.ibb.co/yFdgRMxs/Screenshot-2025-03-12-183530.png\" alt=\"Screenshot-2025-03-12-183530\" border=\"0\"></a>"
   ]
  },
  {
   "cell_type": "code",
   "execution_count": 53,
   "metadata": {
    "id": "tviKZ4Qo6ApK"
   },
   "outputs": [
    {
     "data": {
      "text/html": [
       "<div>\n",
       "<style scoped>\n",
       "    .dataframe tbody tr th:only-of-type {\n",
       "        vertical-align: middle;\n",
       "    }\n",
       "\n",
       "    .dataframe tbody tr th {\n",
       "        vertical-align: top;\n",
       "    }\n",
       "\n",
       "    .dataframe thead th {\n",
       "        text-align: right;\n",
       "    }\n",
       "</style>\n",
       "<table border=\"1\" class=\"dataframe\">\n",
       "  <thead>\n",
       "    <tr style=\"text-align: right;\">\n",
       "      <th></th>\n",
       "      <th>Model</th>\n",
       "      <th>RMSE</th>\n",
       "      <th>R2 Score</th>\n",
       "      <th>MAE</th>\n",
       "    </tr>\n",
       "  </thead>\n",
       "  <tbody>\n",
       "    <tr>\n",
       "      <th>0</th>\n",
       "      <td>Validation</td>\n",
       "      <td>37973.151707</td>\n",
       "      <td>0.958537</td>\n",
       "      <td>148.647198</td>\n",
       "    </tr>\n",
       "  </tbody>\n",
       "</table>\n",
       "</div>"
      ],
      "text/plain": [
       "        Model          RMSE  R2 Score         MAE\n",
       "0  Validation  37973.151707  0.958537  148.647198"
      ]
     },
     "metadata": {},
     "output_type": "display_data"
    }
   ],
   "source": [
    "metrics_df_lr = pd.DataFrame({\n",
    "    'Model': ['Validation'],\n",
    "    'RMSE': [mse],\n",
    "    'R2 Score': [r2],\n",
    "    'MAE' : [mae]\n",
    "})\n",
    "\n",
    "# Print the DataFrame\n",
    "display(metrics_df_lr)\n"
   ]
  },
  {
   "cell_type": "markdown",
   "metadata": {
    "id": "EWKxUEETvExi"
   },
   "source": [
    "## ارزیابی:\n",
    "*ارزیابی خودتان از عملکرد مدل و خروجی حاصل از آن را بنویسید*\n",
    "1. مدل با استفاده از این روش در حد نرمال قرار گرفته است که این داده ها با این مدل نتیجه خوبی را ارایه داده است\n"
   ]
  },
  {
   "cell_type": "markdown",
   "metadata": {
    "id": "zN9KWOHchDSM"
   },
   "source": [
    "<div dir=\"rtl\">\n",
    "<font size=\"6\">\n",
    "    <li>\n",
    "        <strong>ذخیره سازی مدل</strong>\n",
    "    </li>\n",
    "    <font size=4>\n",
    "        <li>\n",
    "        از بین دو مدلی Random Forest و XGBoost آن مدلی که عملکرد بهتری دارد را ذخیره کنید\n",
    "        </li>\n",
    "    </font>\n",
    "</font>"
   ]
  },
  {
   "cell_type": "code",
   "execution_count": 54,
   "metadata": {},
   "outputs": [],
   "source": [
    "import pickle"
   ]
  },
  {
   "cell_type": "code",
   "execution_count": 55,
   "metadata": {
    "id": "U-Iu9Devg_c5"
   },
   "outputs": [],
   "source": [
    "# TODO: مدل را ذخیره کنید\n",
    "with open('Exercise_2.pkl','wb') as File_1:\n",
    "    pickle.dump(pipeline,File_1)"
   ]
  },
  {
   "cell_type": "code",
   "execution_count": 56,
   "metadata": {},
   "outputs": [],
   "source": [
    "with open('Exercise_2.pkl','rb') as File_2:\n",
    "    Exercise_2_model = pickle.load(File_2)"
   ]
  },
  {
   "cell_type": "code",
   "execution_count": 57,
   "metadata": {},
   "outputs": [
    {
     "name": "stdout",
     "output_type": "stream",
     "text": [
      "MSE : 37973.15170711203\n",
      "R2 : 0.9585365475436046\n",
      "MAE : 148.64719753811565\n"
     ]
    }
   ],
   "source": [
    "evaluate_model(pipeline=Exercise_2_model,X_train=X_train,X_val=X_val,y_train=y_train,y_val=y_val)"
   ]
  }
 ],
 "metadata": {
  "colab": {
   "provenance": []
  },
  "kernelspec": {
   "display_name": "base",
   "language": "python",
   "name": "python3"
  },
  "language_info": {
   "codemirror_mode": {
    "name": "ipython",
    "version": 3
   },
   "file_extension": ".py",
   "mimetype": "text/x-python",
   "name": "python",
   "nbconvert_exporter": "python",
   "pygments_lexer": "ipython3",
   "version": "3.12.7"
  }
 },
 "nbformat": 4,
 "nbformat_minor": 0
}
